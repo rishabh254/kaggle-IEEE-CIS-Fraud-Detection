{
  "nbformat": 4,
  "nbformat_minor": 0,
  "metadata": {
    "kernelspec": {
      "name": "python3",
      "display_name": "Python 3"
    },
    "language_info": {
      "pygments_lexer": "ipython3",
      "nbconvert_exporter": "python",
      "version": "3.6.4",
      "file_extension": ".py",
      "codemirror_mode": {
        "name": "ipython",
        "version": 3
      },
      "name": "python",
      "mimetype": "text/x-python"
    },
    "colab": {
      "name": "ieee_fraud2.ipynb",
      "provenance": [],
      "collapsed_sections": [],
      "machine_shape": "hm"
    },
    "accelerator": "GPU"
  },
  "cells": [
    {
      "cell_type": "markdown",
      "metadata": {
        "id": "A3wtyRgP0v9I",
        "colab_type": "text"
      },
      "source": [
        "# Homework 2 - IEEE Fraud Detection\n"
      ]
    },
    {
      "cell_type": "markdown",
      "metadata": {
        "id": "AYdrebR-xo4k",
        "colab_type": "text"
      },
      "source": [
        "![kaggle_profile](https://user-images.githubusercontent.com/8913742/65657680-6c166f00-dff2-11e9-98db-b9e25eaebc07.png)"
      ]
    },
    {
      "cell_type": "markdown",
      "metadata": {
        "id": "GOmj61A-LuZ1",
        "colab_type": "text"
      },
      "source": [
        "**Importing required libraries**"
      ]
    },
    {
      "cell_type": "code",
      "metadata": {
        "_uuid": "8f2839f25d086af736a60e9eeb907d3b93b6e0e5",
        "_cell_guid": "b1076dfc-b9ad-4769-8c92-a6c4dae69d19",
        "trusted": true,
        "id": "mYZdJ1aCOTYr",
        "colab_type": "code",
        "colab": {}
      },
      "source": [
        "'''\n",
        "******************************************************************************\n",
        "  CSE-519-Data Science Fundamentals HW2\n",
        "  Name: Rishabh Goel\n",
        "  SBU Id : 112714848\n",
        "  Email Id: rishabh.goel@stonybrook.edu\n",
        "  Kaggle profile link : https://www.kaggle.com/rishabhgoelsbu\n",
        "*******************************************************************************\n",
        "'''\n",
        "\n",
        "import numpy as np # linear algebra\n",
        "import pandas as pd # data processing, CSV file I/O (e.g. pd.read_csv)\n",
        "\n",
        "import seaborn as sns              # plotting libraries\n",
        "import matplotlib.pyplot as plt\n",
        "\n",
        "import datetime                   # for working with dates\n",
        "import matplotlib.dates as mdates\n",
        "\n",
        "import csv                        # for saving from and loading to colab\n",
        "from google.colab import files\n",
        "\n",
        "from sklearn.model_selection import train_test_split   #data preprocessing \n",
        "from sklearn.preprocessing import LabelEncoder\n",
        "  \n",
        "from xgboost              import XGBClassifier          # model libraries\n",
        "from sklearn.ensemble     import ExtraTreesClassifier\n",
        "from sklearn.tree         import ExtraTreeClassifier\n",
        "from sklearn.tree         import DecisionTreeClassifier\n",
        "from sklearn.ensemble     import GradientBoostingClassifier\n",
        "from sklearn.ensemble     import BaggingClassifier\n",
        "from sklearn.ensemble     import AdaBoostClassifier\n",
        "from sklearn.ensemble     import RandomForestClassifier\n",
        "from sklearn.linear_model import LogisticRegression\n",
        "from lightgbm             import LGBMClassifier\n",
        "\n",
        "import pickle          # to save model\n",
        "\n",
        "from sklearn.metrics import roc_auc_score   # for result analysis\n",
        "from sklearn.metrics import classification_report, confusion_matrix, roc_curve, auc\n",
        "from sklearn.metrics import classification_report"
      ],
      "execution_count": 0,
      "outputs": []
    },
    {
      "cell_type": "markdown",
      "metadata": {
        "id": "jm1n712WLods",
        "colab_type": "text"
      },
      "source": [
        "**Loading data from google drive to colab**"
      ]
    },
    {
      "cell_type": "code",
      "metadata": {
        "id": "RTMBtc9zPRJE",
        "colab_type": "code",
        "colab": {}
      },
      "source": [
        "#Reference : https://towardsdatascience.com/3-ways-to-load-csv-files-into-colab-7c14fcbdcb92\n",
        "    \n",
        "# Code to read csv file into Colaboratory:\n",
        "!pip install -U -q PyDrive\n",
        "from pydrive.auth import GoogleAuth\n",
        "from pydrive.drive import GoogleDrive\n",
        "from google.colab import auth\n",
        "from oauth2client.client import GoogleCredentials\n",
        "\n",
        "# Authenticate and create the PyDrive client.\n",
        "auth.authenticate_user()\n",
        "gauth = GoogleAuth()\n",
        "gauth.credentials = GoogleCredentials.get_application_default()\n",
        "drive = GoogleDrive(gauth)"
      ],
      "execution_count": 0,
      "outputs": []
    },
    {
      "cell_type": "code",
      "metadata": {
        "id": "CYLIa997QAIk",
        "colab_type": "code",
        "colab": {}
      },
      "source": [
        "# read csv from google drive\n",
        "def readcsv(link,filename,col=None):\n",
        "  fluff, id = link.split('=')\n",
        "  print (id) # Verify that you have everything after '='\n",
        "  downloaded = drive.CreateFile({'id':id}) \n",
        "  downloaded.GetContentFile(filename)\n",
        "  return pd.read_csv(filename,index_col=col)"
      ],
      "execution_count": 0,
      "outputs": []
    },
    {
      "cell_type": "code",
      "metadata": {
        "id": "Lj6c-hvMPaPi",
        "colab_type": "code",
        "colab": {}
      },
      "source": [
        "train_transaction_link ='https://drive.google.com/open?id=12Kzyh6gWTYcutdYGVxKJOysE5cB3maBg'\n",
        "train_identity_link = 'https://drive.google.com/open?id=16mIyAHo6XRoFsTae1UwZKzVl2ZrqZHYh'\n",
        "test_transaction_link = 'https://drive.google.com/open?id=1e7_dC83nyScSdTckoUuK8x2q2oyWG-OP'\n",
        "test_identity_link = 'https://drive.google.com/open?id=1gcmBSZscID4-yyBCpV9OQSCusmcxu3Re'\n",
        "sample_submission_link = 'https://drive.google.com/open?id=1QMOdzJBw4cn0IfqBNQ33YmrZvJaYMnRd'"
      ],
      "execution_count": 0,
      "outputs": []
    },
    {
      "cell_type": "code",
      "metadata": {
        "trusted": true,
        "id": "JfzDJPRbOTY3",
        "colab_type": "code",
        "outputId": "bdd15309-6c56-489b-d3ed-f80dd5bef7d0",
        "colab": {
          "base_uri": "https://localhost:8080/",
          "height": 88
        }
      },
      "source": [
        "#train transaction data\n",
        "train_data_tr = readcsv(train_transaction_link,'train_transaction.csv')\n",
        "#train identity data\n",
        "train_data_id = readcsv(train_identity_link,'train_identity.csv')\n",
        "#test transaction data\n",
        "test_data_tr = readcsv(test_transaction_link,'test_transaction.csv')\n",
        "#test identity data\n",
        "test_data_id = readcsv(test_identity_link,'test_identity.csv')\n",
        "#sample submission\n",
        "sample_submission = readcsv(sample_submission_link,'sample_submission.csv','TransactionID')"
      ],
      "execution_count": 10,
      "outputs": [
        {
          "output_type": "stream",
          "text": [
            "16mIyAHo6XRoFsTae1UwZKzVl2ZrqZHYh\n",
            "1e7_dC83nyScSdTckoUuK8x2q2oyWG-OP\n",
            "1gcmBSZscID4-yyBCpV9OQSCusmcxu3Re\n",
            "1QMOdzJBw4cn0IfqBNQ33YmrZvJaYMnRd\n"
          ],
          "name": "stdout"
        }
      ]
    },
    {
      "cell_type": "markdown",
      "metadata": {
        "id": "KHdg9CNjL5_9",
        "colab_type": "text"
      },
      "source": [
        "**Studying data**"
      ]
    },
    {
      "cell_type": "code",
      "metadata": {
        "trusted": true,
        "id": "hqy71FZsOTY_",
        "colab_type": "code",
        "colab": {}
      },
      "source": [
        "# Merging transaction and identity data\n",
        "train_data = pd.merge(train_data_tr, train_data_id, on='TransactionID', how='left')\n",
        "test_data = pd.merge(test_data_tr, test_data_id, on='TransactionID', how='left')"
      ],
      "execution_count": 0,
      "outputs": []
    },
    {
      "cell_type": "code",
      "metadata": {
        "trusted": true,
        "id": "2HzL6u7jOTZH",
        "colab_type": "code",
        "outputId": "4068ade5-f4b2-48a2-a92a-302fcd0ed5f7",
        "colab": {
          "base_uri": "https://localhost:8080/",
          "height": 261
        }
      },
      "source": [
        "# Peeking into train transaction data\n",
        "print(train_data.shape)\n",
        "train_data_tr.head()"
      ],
      "execution_count": 12,
      "outputs": [
        {
          "output_type": "stream",
          "text": [
            "(590540, 434)\n"
          ],
          "name": "stdout"
        },
        {
          "output_type": "execute_result",
          "data": {
            "text/html": [
              "<div>\n",
              "<style scoped>\n",
              "    .dataframe tbody tr th:only-of-type {\n",
              "        vertical-align: middle;\n",
              "    }\n",
              "\n",
              "    .dataframe tbody tr th {\n",
              "        vertical-align: top;\n",
              "    }\n",
              "\n",
              "    .dataframe thead th {\n",
              "        text-align: right;\n",
              "    }\n",
              "</style>\n",
              "<table border=\"1\" class=\"dataframe\">\n",
              "  <thead>\n",
              "    <tr style=\"text-align: right;\">\n",
              "      <th></th>\n",
              "      <th>TransactionID</th>\n",
              "      <th>isFraud</th>\n",
              "      <th>TransactionDT</th>\n",
              "      <th>TransactionAmt</th>\n",
              "      <th>ProductCD</th>\n",
              "      <th>card1</th>\n",
              "      <th>card2</th>\n",
              "      <th>card3</th>\n",
              "      <th>card4</th>\n",
              "      <th>card5</th>\n",
              "      <th>card6</th>\n",
              "      <th>addr1</th>\n",
              "      <th>addr2</th>\n",
              "      <th>dist1</th>\n",
              "      <th>dist2</th>\n",
              "      <th>P_emaildomain</th>\n",
              "      <th>R_emaildomain</th>\n",
              "      <th>C1</th>\n",
              "      <th>C2</th>\n",
              "      <th>C3</th>\n",
              "      <th>C4</th>\n",
              "      <th>C5</th>\n",
              "      <th>C6</th>\n",
              "      <th>C7</th>\n",
              "      <th>C8</th>\n",
              "      <th>C9</th>\n",
              "      <th>C10</th>\n",
              "      <th>C11</th>\n",
              "      <th>C12</th>\n",
              "      <th>C13</th>\n",
              "      <th>C14</th>\n",
              "      <th>D1</th>\n",
              "      <th>D2</th>\n",
              "      <th>D3</th>\n",
              "      <th>D4</th>\n",
              "      <th>D5</th>\n",
              "      <th>D6</th>\n",
              "      <th>D7</th>\n",
              "      <th>D8</th>\n",
              "      <th>D9</th>\n",
              "      <th>...</th>\n",
              "      <th>V300</th>\n",
              "      <th>V301</th>\n",
              "      <th>V302</th>\n",
              "      <th>V303</th>\n",
              "      <th>V304</th>\n",
              "      <th>V305</th>\n",
              "      <th>V306</th>\n",
              "      <th>V307</th>\n",
              "      <th>V308</th>\n",
              "      <th>V309</th>\n",
              "      <th>V310</th>\n",
              "      <th>V311</th>\n",
              "      <th>V312</th>\n",
              "      <th>V313</th>\n",
              "      <th>V314</th>\n",
              "      <th>V315</th>\n",
              "      <th>V316</th>\n",
              "      <th>V317</th>\n",
              "      <th>V318</th>\n",
              "      <th>V319</th>\n",
              "      <th>V320</th>\n",
              "      <th>V321</th>\n",
              "      <th>V322</th>\n",
              "      <th>V323</th>\n",
              "      <th>V324</th>\n",
              "      <th>V325</th>\n",
              "      <th>V326</th>\n",
              "      <th>V327</th>\n",
              "      <th>V328</th>\n",
              "      <th>V329</th>\n",
              "      <th>V330</th>\n",
              "      <th>V331</th>\n",
              "      <th>V332</th>\n",
              "      <th>V333</th>\n",
              "      <th>V334</th>\n",
              "      <th>V335</th>\n",
              "      <th>V336</th>\n",
              "      <th>V337</th>\n",
              "      <th>V338</th>\n",
              "      <th>V339</th>\n",
              "    </tr>\n",
              "  </thead>\n",
              "  <tbody>\n",
              "    <tr>\n",
              "      <th>0</th>\n",
              "      <td>2987000</td>\n",
              "      <td>0</td>\n",
              "      <td>86400</td>\n",
              "      <td>68.5</td>\n",
              "      <td>W</td>\n",
              "      <td>13926</td>\n",
              "      <td>NaN</td>\n",
              "      <td>150.0</td>\n",
              "      <td>discover</td>\n",
              "      <td>142.0</td>\n",
              "      <td>credit</td>\n",
              "      <td>315.0</td>\n",
              "      <td>87.0</td>\n",
              "      <td>19.0</td>\n",
              "      <td>NaN</td>\n",
              "      <td>NaN</td>\n",
              "      <td>NaN</td>\n",
              "      <td>1.0</td>\n",
              "      <td>1.0</td>\n",
              "      <td>0.0</td>\n",
              "      <td>0.0</td>\n",
              "      <td>0.0</td>\n",
              "      <td>1.0</td>\n",
              "      <td>0.0</td>\n",
              "      <td>0.0</td>\n",
              "      <td>1.0</td>\n",
              "      <td>0.0</td>\n",
              "      <td>2.0</td>\n",
              "      <td>0.0</td>\n",
              "      <td>1.0</td>\n",
              "      <td>1.0</td>\n",
              "      <td>14.0</td>\n",
              "      <td>NaN</td>\n",
              "      <td>13.0</td>\n",
              "      <td>NaN</td>\n",
              "      <td>NaN</td>\n",
              "      <td>NaN</td>\n",
              "      <td>NaN</td>\n",
              "      <td>NaN</td>\n",
              "      <td>NaN</td>\n",
              "      <td>...</td>\n",
              "      <td>0.0</td>\n",
              "      <td>0.0</td>\n",
              "      <td>0.0</td>\n",
              "      <td>0.0</td>\n",
              "      <td>0.0</td>\n",
              "      <td>1.0</td>\n",
              "      <td>0.0</td>\n",
              "      <td>117.0</td>\n",
              "      <td>0.0</td>\n",
              "      <td>0.0</td>\n",
              "      <td>0.0</td>\n",
              "      <td>0.0</td>\n",
              "      <td>0.0</td>\n",
              "      <td>0.0</td>\n",
              "      <td>0.0</td>\n",
              "      <td>0.0</td>\n",
              "      <td>0.0</td>\n",
              "      <td>117.0</td>\n",
              "      <td>0.0</td>\n",
              "      <td>0.0</td>\n",
              "      <td>0.0</td>\n",
              "      <td>0.0</td>\n",
              "      <td>NaN</td>\n",
              "      <td>NaN</td>\n",
              "      <td>NaN</td>\n",
              "      <td>NaN</td>\n",
              "      <td>NaN</td>\n",
              "      <td>NaN</td>\n",
              "      <td>NaN</td>\n",
              "      <td>NaN</td>\n",
              "      <td>NaN</td>\n",
              "      <td>NaN</td>\n",
              "      <td>NaN</td>\n",
              "      <td>NaN</td>\n",
              "      <td>NaN</td>\n",
              "      <td>NaN</td>\n",
              "      <td>NaN</td>\n",
              "      <td>NaN</td>\n",
              "      <td>NaN</td>\n",
              "      <td>NaN</td>\n",
              "    </tr>\n",
              "    <tr>\n",
              "      <th>1</th>\n",
              "      <td>2987001</td>\n",
              "      <td>0</td>\n",
              "      <td>86401</td>\n",
              "      <td>29.0</td>\n",
              "      <td>W</td>\n",
              "      <td>2755</td>\n",
              "      <td>404.0</td>\n",
              "      <td>150.0</td>\n",
              "      <td>mastercard</td>\n",
              "      <td>102.0</td>\n",
              "      <td>credit</td>\n",
              "      <td>325.0</td>\n",
              "      <td>87.0</td>\n",
              "      <td>NaN</td>\n",
              "      <td>NaN</td>\n",
              "      <td>gmail.com</td>\n",
              "      <td>NaN</td>\n",
              "      <td>1.0</td>\n",
              "      <td>1.0</td>\n",
              "      <td>0.0</td>\n",
              "      <td>0.0</td>\n",
              "      <td>0.0</td>\n",
              "      <td>1.0</td>\n",
              "      <td>0.0</td>\n",
              "      <td>0.0</td>\n",
              "      <td>0.0</td>\n",
              "      <td>0.0</td>\n",
              "      <td>1.0</td>\n",
              "      <td>0.0</td>\n",
              "      <td>1.0</td>\n",
              "      <td>1.0</td>\n",
              "      <td>0.0</td>\n",
              "      <td>NaN</td>\n",
              "      <td>NaN</td>\n",
              "      <td>0.0</td>\n",
              "      <td>NaN</td>\n",
              "      <td>NaN</td>\n",
              "      <td>NaN</td>\n",
              "      <td>NaN</td>\n",
              "      <td>NaN</td>\n",
              "      <td>...</td>\n",
              "      <td>0.0</td>\n",
              "      <td>0.0</td>\n",
              "      <td>0.0</td>\n",
              "      <td>0.0</td>\n",
              "      <td>0.0</td>\n",
              "      <td>1.0</td>\n",
              "      <td>0.0</td>\n",
              "      <td>0.0</td>\n",
              "      <td>0.0</td>\n",
              "      <td>0.0</td>\n",
              "      <td>0.0</td>\n",
              "      <td>0.0</td>\n",
              "      <td>0.0</td>\n",
              "      <td>0.0</td>\n",
              "      <td>0.0</td>\n",
              "      <td>0.0</td>\n",
              "      <td>0.0</td>\n",
              "      <td>0.0</td>\n",
              "      <td>0.0</td>\n",
              "      <td>0.0</td>\n",
              "      <td>0.0</td>\n",
              "      <td>0.0</td>\n",
              "      <td>NaN</td>\n",
              "      <td>NaN</td>\n",
              "      <td>NaN</td>\n",
              "      <td>NaN</td>\n",
              "      <td>NaN</td>\n",
              "      <td>NaN</td>\n",
              "      <td>NaN</td>\n",
              "      <td>NaN</td>\n",
              "      <td>NaN</td>\n",
              "      <td>NaN</td>\n",
              "      <td>NaN</td>\n",
              "      <td>NaN</td>\n",
              "      <td>NaN</td>\n",
              "      <td>NaN</td>\n",
              "      <td>NaN</td>\n",
              "      <td>NaN</td>\n",
              "      <td>NaN</td>\n",
              "      <td>NaN</td>\n",
              "    </tr>\n",
              "    <tr>\n",
              "      <th>2</th>\n",
              "      <td>2987002</td>\n",
              "      <td>0</td>\n",
              "      <td>86469</td>\n",
              "      <td>59.0</td>\n",
              "      <td>W</td>\n",
              "      <td>4663</td>\n",
              "      <td>490.0</td>\n",
              "      <td>150.0</td>\n",
              "      <td>visa</td>\n",
              "      <td>166.0</td>\n",
              "      <td>debit</td>\n",
              "      <td>330.0</td>\n",
              "      <td>87.0</td>\n",
              "      <td>287.0</td>\n",
              "      <td>NaN</td>\n",
              "      <td>outlook.com</td>\n",
              "      <td>NaN</td>\n",
              "      <td>1.0</td>\n",
              "      <td>1.0</td>\n",
              "      <td>0.0</td>\n",
              "      <td>0.0</td>\n",
              "      <td>0.0</td>\n",
              "      <td>1.0</td>\n",
              "      <td>0.0</td>\n",
              "      <td>0.0</td>\n",
              "      <td>1.0</td>\n",
              "      <td>0.0</td>\n",
              "      <td>1.0</td>\n",
              "      <td>0.0</td>\n",
              "      <td>1.0</td>\n",
              "      <td>1.0</td>\n",
              "      <td>0.0</td>\n",
              "      <td>NaN</td>\n",
              "      <td>NaN</td>\n",
              "      <td>0.0</td>\n",
              "      <td>NaN</td>\n",
              "      <td>NaN</td>\n",
              "      <td>NaN</td>\n",
              "      <td>NaN</td>\n",
              "      <td>NaN</td>\n",
              "      <td>...</td>\n",
              "      <td>0.0</td>\n",
              "      <td>0.0</td>\n",
              "      <td>0.0</td>\n",
              "      <td>0.0</td>\n",
              "      <td>0.0</td>\n",
              "      <td>1.0</td>\n",
              "      <td>0.0</td>\n",
              "      <td>0.0</td>\n",
              "      <td>0.0</td>\n",
              "      <td>0.0</td>\n",
              "      <td>0.0</td>\n",
              "      <td>0.0</td>\n",
              "      <td>0.0</td>\n",
              "      <td>0.0</td>\n",
              "      <td>0.0</td>\n",
              "      <td>0.0</td>\n",
              "      <td>0.0</td>\n",
              "      <td>0.0</td>\n",
              "      <td>0.0</td>\n",
              "      <td>0.0</td>\n",
              "      <td>0.0</td>\n",
              "      <td>0.0</td>\n",
              "      <td>NaN</td>\n",
              "      <td>NaN</td>\n",
              "      <td>NaN</td>\n",
              "      <td>NaN</td>\n",
              "      <td>NaN</td>\n",
              "      <td>NaN</td>\n",
              "      <td>NaN</td>\n",
              "      <td>NaN</td>\n",
              "      <td>NaN</td>\n",
              "      <td>NaN</td>\n",
              "      <td>NaN</td>\n",
              "      <td>NaN</td>\n",
              "      <td>NaN</td>\n",
              "      <td>NaN</td>\n",
              "      <td>NaN</td>\n",
              "      <td>NaN</td>\n",
              "      <td>NaN</td>\n",
              "      <td>NaN</td>\n",
              "    </tr>\n",
              "    <tr>\n",
              "      <th>3</th>\n",
              "      <td>2987003</td>\n",
              "      <td>0</td>\n",
              "      <td>86499</td>\n",
              "      <td>50.0</td>\n",
              "      <td>W</td>\n",
              "      <td>18132</td>\n",
              "      <td>567.0</td>\n",
              "      <td>150.0</td>\n",
              "      <td>mastercard</td>\n",
              "      <td>117.0</td>\n",
              "      <td>debit</td>\n",
              "      <td>476.0</td>\n",
              "      <td>87.0</td>\n",
              "      <td>NaN</td>\n",
              "      <td>NaN</td>\n",
              "      <td>yahoo.com</td>\n",
              "      <td>NaN</td>\n",
              "      <td>2.0</td>\n",
              "      <td>5.0</td>\n",
              "      <td>0.0</td>\n",
              "      <td>0.0</td>\n",
              "      <td>0.0</td>\n",
              "      <td>4.0</td>\n",
              "      <td>0.0</td>\n",
              "      <td>0.0</td>\n",
              "      <td>1.0</td>\n",
              "      <td>0.0</td>\n",
              "      <td>1.0</td>\n",
              "      <td>0.0</td>\n",
              "      <td>25.0</td>\n",
              "      <td>1.0</td>\n",
              "      <td>112.0</td>\n",
              "      <td>112.0</td>\n",
              "      <td>0.0</td>\n",
              "      <td>94.0</td>\n",
              "      <td>0.0</td>\n",
              "      <td>NaN</td>\n",
              "      <td>NaN</td>\n",
              "      <td>NaN</td>\n",
              "      <td>NaN</td>\n",
              "      <td>...</td>\n",
              "      <td>0.0</td>\n",
              "      <td>0.0</td>\n",
              "      <td>0.0</td>\n",
              "      <td>0.0</td>\n",
              "      <td>0.0</td>\n",
              "      <td>1.0</td>\n",
              "      <td>50.0</td>\n",
              "      <td>1758.0</td>\n",
              "      <td>925.0</td>\n",
              "      <td>0.0</td>\n",
              "      <td>354.0</td>\n",
              "      <td>0.0</td>\n",
              "      <td>135.0</td>\n",
              "      <td>0.0</td>\n",
              "      <td>0.0</td>\n",
              "      <td>0.0</td>\n",
              "      <td>50.0</td>\n",
              "      <td>1404.0</td>\n",
              "      <td>790.0</td>\n",
              "      <td>0.0</td>\n",
              "      <td>0.0</td>\n",
              "      <td>0.0</td>\n",
              "      <td>NaN</td>\n",
              "      <td>NaN</td>\n",
              "      <td>NaN</td>\n",
              "      <td>NaN</td>\n",
              "      <td>NaN</td>\n",
              "      <td>NaN</td>\n",
              "      <td>NaN</td>\n",
              "      <td>NaN</td>\n",
              "      <td>NaN</td>\n",
              "      <td>NaN</td>\n",
              "      <td>NaN</td>\n",
              "      <td>NaN</td>\n",
              "      <td>NaN</td>\n",
              "      <td>NaN</td>\n",
              "      <td>NaN</td>\n",
              "      <td>NaN</td>\n",
              "      <td>NaN</td>\n",
              "      <td>NaN</td>\n",
              "    </tr>\n",
              "    <tr>\n",
              "      <th>4</th>\n",
              "      <td>2987004</td>\n",
              "      <td>0</td>\n",
              "      <td>86506</td>\n",
              "      <td>50.0</td>\n",
              "      <td>H</td>\n",
              "      <td>4497</td>\n",
              "      <td>514.0</td>\n",
              "      <td>150.0</td>\n",
              "      <td>mastercard</td>\n",
              "      <td>102.0</td>\n",
              "      <td>credit</td>\n",
              "      <td>420.0</td>\n",
              "      <td>87.0</td>\n",
              "      <td>NaN</td>\n",
              "      <td>NaN</td>\n",
              "      <td>gmail.com</td>\n",
              "      <td>NaN</td>\n",
              "      <td>1.0</td>\n",
              "      <td>1.0</td>\n",
              "      <td>0.0</td>\n",
              "      <td>0.0</td>\n",
              "      <td>0.0</td>\n",
              "      <td>1.0</td>\n",
              "      <td>0.0</td>\n",
              "      <td>1.0</td>\n",
              "      <td>0.0</td>\n",
              "      <td>1.0</td>\n",
              "      <td>1.0</td>\n",
              "      <td>0.0</td>\n",
              "      <td>1.0</td>\n",
              "      <td>1.0</td>\n",
              "      <td>0.0</td>\n",
              "      <td>NaN</td>\n",
              "      <td>NaN</td>\n",
              "      <td>NaN</td>\n",
              "      <td>NaN</td>\n",
              "      <td>NaN</td>\n",
              "      <td>NaN</td>\n",
              "      <td>NaN</td>\n",
              "      <td>NaN</td>\n",
              "      <td>...</td>\n",
              "      <td>0.0</td>\n",
              "      <td>0.0</td>\n",
              "      <td>1.0</td>\n",
              "      <td>1.0</td>\n",
              "      <td>1.0</td>\n",
              "      <td>1.0</td>\n",
              "      <td>0.0</td>\n",
              "      <td>0.0</td>\n",
              "      <td>0.0</td>\n",
              "      <td>0.0</td>\n",
              "      <td>0.0</td>\n",
              "      <td>0.0</td>\n",
              "      <td>0.0</td>\n",
              "      <td>0.0</td>\n",
              "      <td>0.0</td>\n",
              "      <td>0.0</td>\n",
              "      <td>0.0</td>\n",
              "      <td>0.0</td>\n",
              "      <td>0.0</td>\n",
              "      <td>0.0</td>\n",
              "      <td>0.0</td>\n",
              "      <td>0.0</td>\n",
              "      <td>0.0</td>\n",
              "      <td>0.0</td>\n",
              "      <td>0.0</td>\n",
              "      <td>0.0</td>\n",
              "      <td>0.0</td>\n",
              "      <td>0.0</td>\n",
              "      <td>0.0</td>\n",
              "      <td>0.0</td>\n",
              "      <td>0.0</td>\n",
              "      <td>0.0</td>\n",
              "      <td>0.0</td>\n",
              "      <td>0.0</td>\n",
              "      <td>0.0</td>\n",
              "      <td>0.0</td>\n",
              "      <td>0.0</td>\n",
              "      <td>0.0</td>\n",
              "      <td>0.0</td>\n",
              "      <td>0.0</td>\n",
              "    </tr>\n",
              "  </tbody>\n",
              "</table>\n",
              "<p>5 rows × 394 columns</p>\n",
              "</div>"
            ],
            "text/plain": [
              "   TransactionID  isFraud  TransactionDT  ...  V337 V338  V339\n",
              "0        2987000        0          86400  ...   NaN  NaN   NaN\n",
              "1        2987001        0          86401  ...   NaN  NaN   NaN\n",
              "2        2987002        0          86469  ...   NaN  NaN   NaN\n",
              "3        2987003        0          86499  ...   NaN  NaN   NaN\n",
              "4        2987004        0          86506  ...   0.0  0.0   0.0\n",
              "\n",
              "[5 rows x 394 columns]"
            ]
          },
          "metadata": {
            "tags": []
          },
          "execution_count": 12
        }
      ]
    },
    {
      "cell_type": "code",
      "metadata": {
        "trusted": true,
        "id": "BGoNZNIxOTZQ",
        "colab_type": "code",
        "outputId": "92b888f8-3f90-4cca-fc8f-43b0421df7fd",
        "colab": {
          "base_uri": "https://localhost:8080/",
          "height": 389
        }
      },
      "source": [
        "# Using the following features for the first 5 questions\n",
        "features1_5 = ['TransactionID','DeviceType','DeviceInfo','TransactionDT',\n",
        "               'TransactionAmt','ProductCD','card4','card6','P_emaildomain',\n",
        "               'R_emaildomain','addr1','addr2','dist1','dist2','isFraud']\n",
        "train_data1_5 = train_data[features1_5]\n",
        "print(train_data1_5.describe())\n",
        "train_data1_5.head()"
      ],
      "execution_count": 13,
      "outputs": [
        {
          "output_type": "stream",
          "text": [
            "       TransactionID  TransactionDT  ...         dist2        isFraud\n",
            "count   5.905400e+05   5.905400e+05  ...  37627.000000  590540.000000\n",
            "mean    3.282270e+06   7.372311e+06  ...    231.855423       0.034990\n",
            "std     1.704744e+05   4.617224e+06  ...    529.053494       0.183755\n",
            "min     2.987000e+06   8.640000e+04  ...      0.000000       0.000000\n",
            "25%     3.134635e+06   3.027058e+06  ...      7.000000       0.000000\n",
            "50%     3.282270e+06   7.306528e+06  ...     37.000000       0.000000\n",
            "75%     3.429904e+06   1.124662e+07  ...    206.000000       0.000000\n",
            "max     3.577539e+06   1.581113e+07  ...  11623.000000       1.000000\n",
            "\n",
            "[8 rows x 8 columns]\n"
          ],
          "name": "stdout"
        },
        {
          "output_type": "execute_result",
          "data": {
            "text/html": [
              "<div>\n",
              "<style scoped>\n",
              "    .dataframe tbody tr th:only-of-type {\n",
              "        vertical-align: middle;\n",
              "    }\n",
              "\n",
              "    .dataframe tbody tr th {\n",
              "        vertical-align: top;\n",
              "    }\n",
              "\n",
              "    .dataframe thead th {\n",
              "        text-align: right;\n",
              "    }\n",
              "</style>\n",
              "<table border=\"1\" class=\"dataframe\">\n",
              "  <thead>\n",
              "    <tr style=\"text-align: right;\">\n",
              "      <th></th>\n",
              "      <th>TransactionID</th>\n",
              "      <th>DeviceType</th>\n",
              "      <th>DeviceInfo</th>\n",
              "      <th>TransactionDT</th>\n",
              "      <th>TransactionAmt</th>\n",
              "      <th>ProductCD</th>\n",
              "      <th>card4</th>\n",
              "      <th>card6</th>\n",
              "      <th>P_emaildomain</th>\n",
              "      <th>R_emaildomain</th>\n",
              "      <th>addr1</th>\n",
              "      <th>addr2</th>\n",
              "      <th>dist1</th>\n",
              "      <th>dist2</th>\n",
              "      <th>isFraud</th>\n",
              "    </tr>\n",
              "  </thead>\n",
              "  <tbody>\n",
              "    <tr>\n",
              "      <th>0</th>\n",
              "      <td>2987000</td>\n",
              "      <td>NaN</td>\n",
              "      <td>NaN</td>\n",
              "      <td>86400</td>\n",
              "      <td>68.5</td>\n",
              "      <td>W</td>\n",
              "      <td>discover</td>\n",
              "      <td>credit</td>\n",
              "      <td>NaN</td>\n",
              "      <td>NaN</td>\n",
              "      <td>315.0</td>\n",
              "      <td>87.0</td>\n",
              "      <td>19.0</td>\n",
              "      <td>NaN</td>\n",
              "      <td>0</td>\n",
              "    </tr>\n",
              "    <tr>\n",
              "      <th>1</th>\n",
              "      <td>2987001</td>\n",
              "      <td>NaN</td>\n",
              "      <td>NaN</td>\n",
              "      <td>86401</td>\n",
              "      <td>29.0</td>\n",
              "      <td>W</td>\n",
              "      <td>mastercard</td>\n",
              "      <td>credit</td>\n",
              "      <td>gmail.com</td>\n",
              "      <td>NaN</td>\n",
              "      <td>325.0</td>\n",
              "      <td>87.0</td>\n",
              "      <td>NaN</td>\n",
              "      <td>NaN</td>\n",
              "      <td>0</td>\n",
              "    </tr>\n",
              "    <tr>\n",
              "      <th>2</th>\n",
              "      <td>2987002</td>\n",
              "      <td>NaN</td>\n",
              "      <td>NaN</td>\n",
              "      <td>86469</td>\n",
              "      <td>59.0</td>\n",
              "      <td>W</td>\n",
              "      <td>visa</td>\n",
              "      <td>debit</td>\n",
              "      <td>outlook.com</td>\n",
              "      <td>NaN</td>\n",
              "      <td>330.0</td>\n",
              "      <td>87.0</td>\n",
              "      <td>287.0</td>\n",
              "      <td>NaN</td>\n",
              "      <td>0</td>\n",
              "    </tr>\n",
              "    <tr>\n",
              "      <th>3</th>\n",
              "      <td>2987003</td>\n",
              "      <td>NaN</td>\n",
              "      <td>NaN</td>\n",
              "      <td>86499</td>\n",
              "      <td>50.0</td>\n",
              "      <td>W</td>\n",
              "      <td>mastercard</td>\n",
              "      <td>debit</td>\n",
              "      <td>yahoo.com</td>\n",
              "      <td>NaN</td>\n",
              "      <td>476.0</td>\n",
              "      <td>87.0</td>\n",
              "      <td>NaN</td>\n",
              "      <td>NaN</td>\n",
              "      <td>0</td>\n",
              "    </tr>\n",
              "    <tr>\n",
              "      <th>4</th>\n",
              "      <td>2987004</td>\n",
              "      <td>mobile</td>\n",
              "      <td>SAMSUNG SM-G892A Build/NRD90M</td>\n",
              "      <td>86506</td>\n",
              "      <td>50.0</td>\n",
              "      <td>H</td>\n",
              "      <td>mastercard</td>\n",
              "      <td>credit</td>\n",
              "      <td>gmail.com</td>\n",
              "      <td>NaN</td>\n",
              "      <td>420.0</td>\n",
              "      <td>87.0</td>\n",
              "      <td>NaN</td>\n",
              "      <td>NaN</td>\n",
              "      <td>0</td>\n",
              "    </tr>\n",
              "  </tbody>\n",
              "</table>\n",
              "</div>"
            ],
            "text/plain": [
              "   TransactionID DeviceType  ... dist2  isFraud\n",
              "0        2987000        NaN  ...   NaN        0\n",
              "1        2987001        NaN  ...   NaN        0\n",
              "2        2987002        NaN  ...   NaN        0\n",
              "3        2987003        NaN  ...   NaN        0\n",
              "4        2987004     mobile  ...   NaN        0\n",
              "\n",
              "[5 rows x 15 columns]"
            ]
          },
          "metadata": {
            "tags": []
          },
          "execution_count": 13
        }
      ]
    },
    {
      "cell_type": "markdown",
      "metadata": {
        "id": "dgX5IcgrOTZY",
        "colab_type": "text"
      },
      "source": [
        "## Part 0 - Data Preprocessing (Q:1-5)\n",
        "\n",
        "---\n",
        "\n"
      ]
    },
    {
      "cell_type": "code",
      "metadata": {
        "trusted": true,
        "id": "O3AGQAhdOTZi",
        "colab_type": "code",
        "colab": {}
      },
      "source": [
        "from sklearn import preprocessing\n",
        "def normalize(data):    \n",
        "    #Create x, where x the 'scores' column's values as floats\n",
        "    x = data.values.astype(float)\n",
        "\n",
        "    # Create a minimum and maximum processor object\n",
        "    min_max_scaler = preprocessing.Normalizer()\n",
        "\n",
        "    # Create an object to transform the data to fit minmax processor\n",
        "    x_scaled = min_max_scaler.fit_transform(x)\n",
        "    # Run the normalizer on the dataframe\n",
        "    normalized_data = pd.DataFrame(x_scaled)\n",
        "    return normalized_data\n"
      ],
      "execution_count": 0,
      "outputs": []
    },
    {
      "cell_type": "code",
      "metadata": {
        "trusted": true,
        "id": "ccZZjK2WOTZq",
        "colab_type": "code",
        "colab": {}
      },
      "source": [
        "startdate = datetime.datetime.strptime('2018-01-01', '%Y-%m-%d')\n",
        "\n",
        "# converting timestamp to yyyy-mm-dd format\n",
        "train_data1_5['TransactionDT_date'] = train_data1_5['TransactionDT'].apply(\n",
        "    lambda x: (startdate + datetime.timedelta(seconds = x)))\n",
        "\n",
        "# converting timestamp to hour of day format\n",
        "#train_data1_5['TransactionDT_time'] = train_data1_5.TransactionDT_date.apply\n",
        "#                                       (lambda x:  1+((x.hour+15)%24))\n",
        "train_data1_5['TransactionDT_time'] = train_data1_5.TransactionDT_date.apply(\n",
        "    lambda x: x.hour)\n",
        "\n",
        "#making a new feature to find info about decimal length of the transaction amount,\n",
        "#since it has been observed that frauds mostly occur through high decimal length transactions.\n",
        "train_data1_5['TransactionAmt_decimal_length'] = train_data1_5['TransactionAmt'].astype(\n",
        "    str).str.split('.', expand=True)[1].str.len()\n",
        "\n",
        "#Visualizing outliers\n",
        "train_data1_5.loc[train_data1_5['TransactionAmt']>=8000]\n",
        "\n",
        "#Removing outliers\n",
        "train_data1_5 = train_data1_5[train_data1_5['TransactionAmt']<=10000]\n"
      ],
      "execution_count": 0,
      "outputs": []
    },
    {
      "cell_type": "code",
      "metadata": {
        "trusted": true,
        "id": "xCNcdn6wOTZw",
        "colab_type": "code",
        "colab": {}
      },
      "source": [
        "# Utility function to process categorical data and cat code it\n",
        "def process_categorical(feature):\n",
        "    train_data1_5[feature].describe()\n",
        "    train_data1_5[feature] = train_data1_5[feature].astype('category')\n",
        "    train_data1_5[feature+'_cat'] = train_data1_5[feature].cat.codes\n",
        "    train_data1_5.dtypes\n",
        "    d = dict(enumerate(train_data1_5[feature].cat.categories))\n",
        "    print (d)"
      ],
      "execution_count": 0,
      "outputs": []
    },
    {
      "cell_type": "code",
      "metadata": {
        "id": "P1js4z8MnSSU",
        "colab_type": "code",
        "outputId": "b8230040-3c9c-4fc2-aa6b-bb57b8ca6179",
        "colab": {
          "base_uri": "https://localhost:8080/",
          "height": 232
        }
      },
      "source": [
        "#preprocessing categorical data\n",
        "\n",
        "process_categorical('DeviceType')\n",
        "process_categorical('ProductCD')\n",
        "process_categorical('card4')\n",
        "process_categorical('card6')\n",
        "process_categorical('P_emaildomain')\n",
        "process_categorical('R_emaildomain')\n",
        "train_data1_5['P_emaildomain'].describe()\n",
        "train_data1_5['R_emaildomain'].describe()"
      ],
      "execution_count": 17,
      "outputs": [
        {
          "output_type": "stream",
          "text": [
            "{0: 'desktop', 1: 'mobile'}\n",
            "{0: 'C', 1: 'H', 2: 'R', 3: 'S', 4: 'W'}\n",
            "{0: 'american express', 1: 'discover', 2: 'mastercard', 3: 'visa'}\n",
            "{0: 'charge card', 1: 'credit', 2: 'debit', 3: 'debit or credit'}\n",
            "{0: 'aim.com', 1: 'anonymous.com', 2: 'aol.com', 3: 'att.net', 4: 'bellsouth.net', 5: 'cableone.net', 6: 'centurylink.net', 7: 'cfl.rr.com', 8: 'charter.net', 9: 'comcast.net', 10: 'cox.net', 11: 'earthlink.net', 12: 'embarqmail.com', 13: 'frontier.com', 14: 'frontiernet.net', 15: 'gmail', 16: 'gmail.com', 17: 'gmx.de', 18: 'hotmail.co.uk', 19: 'hotmail.com', 20: 'hotmail.de', 21: 'hotmail.es', 22: 'hotmail.fr', 23: 'icloud.com', 24: 'juno.com', 25: 'live.com', 26: 'live.com.mx', 27: 'live.fr', 28: 'mac.com', 29: 'mail.com', 30: 'me.com', 31: 'msn.com', 32: 'netzero.com', 33: 'netzero.net', 34: 'optonline.net', 35: 'outlook.com', 36: 'outlook.es', 37: 'prodigy.net.mx', 38: 'protonmail.com', 39: 'ptd.net', 40: 'q.com', 41: 'roadrunner.com', 42: 'rocketmail.com', 43: 'sbcglobal.net', 44: 'sc.rr.com', 45: 'servicios-ta.com', 46: 'suddenlink.net', 47: 'twc.com', 48: 'verizon.net', 49: 'web.de', 50: 'windstream.net', 51: 'yahoo.co.jp', 52: 'yahoo.co.uk', 53: 'yahoo.com', 54: 'yahoo.com.mx', 55: 'yahoo.de', 56: 'yahoo.es', 57: 'yahoo.fr', 58: 'ymail.com'}\n",
            "{0: 'aim.com', 1: 'anonymous.com', 2: 'aol.com', 3: 'att.net', 4: 'bellsouth.net', 5: 'cableone.net', 6: 'centurylink.net', 7: 'cfl.rr.com', 8: 'charter.net', 9: 'comcast.net', 10: 'cox.net', 11: 'earthlink.net', 12: 'embarqmail.com', 13: 'frontier.com', 14: 'frontiernet.net', 15: 'gmail', 16: 'gmail.com', 17: 'gmx.de', 18: 'hotmail.co.uk', 19: 'hotmail.com', 20: 'hotmail.de', 21: 'hotmail.es', 22: 'hotmail.fr', 23: 'icloud.com', 24: 'juno.com', 25: 'live.com', 26: 'live.com.mx', 27: 'live.fr', 28: 'mac.com', 29: 'mail.com', 30: 'me.com', 31: 'msn.com', 32: 'netzero.com', 33: 'netzero.net', 34: 'optonline.net', 35: 'outlook.com', 36: 'outlook.es', 37: 'prodigy.net.mx', 38: 'protonmail.com', 39: 'ptd.net', 40: 'q.com', 41: 'roadrunner.com', 42: 'rocketmail.com', 43: 'sbcglobal.net', 44: 'sc.rr.com', 45: 'scranton.edu', 46: 'servicios-ta.com', 47: 'suddenlink.net', 48: 'twc.com', 49: 'verizon.net', 50: 'web.de', 51: 'windstream.net', 52: 'yahoo.co.jp', 53: 'yahoo.co.uk', 54: 'yahoo.com', 55: 'yahoo.com.mx', 56: 'yahoo.de', 57: 'yahoo.es', 58: 'yahoo.fr', 59: 'ymail.com'}\n"
          ],
          "name": "stdout"
        },
        {
          "output_type": "execute_result",
          "data": {
            "text/plain": [
              "count        137291\n",
              "unique           60\n",
              "top       gmail.com\n",
              "freq          57147\n",
              "Name: R_emaildomain, dtype: object"
            ]
          },
          "metadata": {
            "tags": []
          },
          "execution_count": 17
        }
      ]
    },
    {
      "cell_type": "markdown",
      "metadata": {
        "id": "hl-PBCfTnNhQ",
        "colab_type": "text"
      },
      "source": [
        "## Part 1 - Fraudulent vs Non-Fraudulent Transaction"
      ]
    },
    {
      "cell_type": "code",
      "metadata": {
        "trusted": true,
        "id": "yGj8BafROTZ9",
        "colab_type": "code",
        "outputId": "6fe70dfe-ba5a-4715-f819-a74cd8cae534",
        "colab": {
          "base_uri": "https://localhost:8080/",
          "height": 323
        }
      },
      "source": [
        "print(train_data1_5.shape)\n",
        "# Segregating train data into fraudelent and non fraudelent data\n",
        "\n",
        "train_data1_5_fraud = train_data1_5.loc[train_data1_5['isFraud'] == 1]\n",
        "train_data1_5_not_fraud = train_data1_5.loc[train_data1_5['isFraud'] == 0]\n",
        "print(train_data1_5_fraud.shape)\n",
        "print(train_data1_5_not_fraud.shape)\n",
        "plt.hist(train_data1_5['isFraud'])\n",
        "plt.show()"
      ],
      "execution_count": 18,
      "outputs": [
        {
          "output_type": "stream",
          "text": [
            "(590538, 24)\n",
            "(20663, 24)\n",
            "(569875, 24)\n"
          ],
          "name": "stdout"
        },
        {
          "output_type": "display_data",
          "data": {
            "image/png": "[encoded data removed]",
            "text/plain": [
              "<Figure size 432x288 with 1 Axes>"
            ]
          },
          "metadata": {
            "tags": []
          }
        }
      ]
    },
    {
      "cell_type": "markdown",
      "metadata": {
        "id": "8Ehni2FJnpAo",
        "colab_type": "text"
      },
      "source": [
        "This data seems to be imbalanced. Only ~20k fraudelent transactions as compared to ~0.5 million non-fraudelent transactions."
      ]
    },
    {
      "cell_type": "code",
      "metadata": {
        "trusted": true,
        "id": "WOxhjtivOTaW",
        "colab_type": "code",
        "outputId": "28811573-e9bf-4084-c59b-d973adebff83",
        "colab": {
          "base_uri": "https://localhost:8080/",
          "height": 1151
        }
      },
      "source": [
        "hist = train_data1_5_fraud.hist(bins=25,figsize=(25,20),log=True,color='r')"
      ],
      "execution_count": 20,
      "outputs": [
        {
          "output_type": "display_data",
          "data": {
            "image/png": "[encoded data removed]",
            "text/plain": [
              "<Figure size 1800x1440 with 16 Axes>"
            ]
          },
          "metadata": {
            "tags": []
          }
        }
      ]
    },
    {
      "cell_type": "markdown",
      "metadata": {
        "id": "Zx5yzSdsct7n",
        "colab_type": "text"
      },
      "source": [
        "# **Plotting given features distribution for fraudelent transactions**\n",
        "From the above plots, I am able to make the following observations:\n",
        "\n",
        "\n",
        "*   There are many null values for device_type. Whatever values we have, it seems fraudelent transactions are made using mobile more than desktop.\n",
        "\n",
        "*   Fraudelent transactions are more for product code 'C' and 'W'.\n",
        "\n",
        "*   Fraudelent transactions are generally for small transaction amounts and the probability decreases as we move on to higher value transactions. From above graph, most of them are in the range of [0,1650]\n",
        "\n",
        "*   TransactionDT is not giving much clue, so we plot TransactionDT_time (hour of the day) and we observe except for a small window , say [6,13], fraudelent transactions are frequent, but we should not jump to conclusion. That might just indicate the waking hours of people.\n",
        "\n",
        "*   addr2 shows some value near 90 (specifically 87), which has considerable amount of fraud transactions, but again, that might be true for whole data overall.\n",
        "\n",
        "All above observations are actually incomplete (maybe wrong too) without examining non-fraudelent data. So let's examine that.\n",
        "\n",
        "\n",
        "\n"
      ]
    },
    {
      "cell_type": "code",
      "metadata": {
        "trusted": true,
        "id": "tL571ygiOTaf",
        "colab_type": "code",
        "outputId": "23a7f975-b655-4a58-ce61-ac475d0dc963",
        "colab": {
          "base_uri": "https://localhost:8080/",
          "height": 1151
        }
      },
      "source": [
        "hist = train_data1_5_not_fraud.hist(bins=25,figsize=(25,20),log=True,color='g')"
      ],
      "execution_count": 21,
      "outputs": [
        {
          "output_type": "display_data",
          "data": {
            "image/png": "[encoded data removed]",
            "text/plain": [
              "<Figure size 1800x1440 with 16 Axes>"
            ]
          },
          "metadata": {
            "tags": []
          }
        }
      ]
    },
    {
      "cell_type": "markdown",
      "metadata": {
        "id": "J3WmM6SVhvYH",
        "colab_type": "text"
      },
      "source": [
        "# **Plotting given features distribution for non-fraudelent transactions**\n",
        "Now we can compare fraudelent and non-fraudelent plots and make some concrete observations:\n",
        "\n",
        "\n",
        "*   Our previous observation about device_type seems to be correct. Desktop is less prone to fraudelent transactions than **mobile** it seems. This might be an important feature going forward.\n",
        "\n",
        "*   We observe that 'W' product code has high frequency for non-fraudelent data too but we can observe a correlation between **product code 'C'** and fraudelent transactions.\n",
        "\n",
        "*   TransactionDT_time, TransactionAmt, addr2 show same pattern for non-fraudelent as fraudelent, so it is not incorrect to say that they don't tell much about fraudelent transactions as of now, but they tell some general idea about the whole data. For eg :\n",
        "\n",
        "\n",
        "1.   The sleeping hours seem to be somewhere around **[5-11]**.\n",
        "2.   The data comes dominantly from one country whose code is **87** here.\n",
        "3.   The transaction amount ranges predominantly from **0-5000**, with **0-1000** having the most frequency , which seems plausible as, generally people shop in that range.\n",
        "\n",
        "\n",
        "\n",
        "\n"
      ]
    },
    {
      "cell_type": "markdown",
      "metadata": {
        "id": "56K9ti1FOTav",
        "colab_type": "text"
      },
      "source": [
        "## Part 2 - Transaction Frequency\n"
      ]
    },
    {
      "cell_type": "code",
      "metadata": {
        "trusted": true,
        "id": "b-IkXnXKOTax",
        "colab_type": "code",
        "colab": {}
      },
      "source": [
        "def plotbyFrequentCountry(data):\n",
        "  #Extracting the data for max occuring country\n",
        "  train_freq_country = data.loc[data['addr2']==87.0]\n",
        "  train_freq_country.dropna(subset= ['TransactionDT_time'])\n",
        "  return train_freq_country"
      ],
      "execution_count": 0,
      "outputs": []
    },
    {
      "cell_type": "code",
      "metadata": {
        "id": "Yv0QYW1C1RBY",
        "colab_type": "code",
        "outputId": "1056d647-ccd3-4bdc-a4b0-27cc5351f840",
        "colab": {
          "base_uri": "https://localhost:8080/",
          "height": 354
        }
      },
      "source": [
        "print('The most frequently occuring country code in data is :',train_data1_5['addr2'].\n",
        "      value_counts().idxmax())\n",
        "\n",
        "fig, axes = plt.subplots(1, 3,figsize=(20,5))\n",
        "plotbyFrequentCountry(train_data1_5).hist('TransactionDT_time',\n",
        "                                          bins=24, ax=axes[0],color='b')\n",
        "axes[0].set_title('Country 87 transactions by hour of day')\n",
        "plotbyFrequentCountry(train_data1_5_fraud).hist('TransactionDT_time',\n",
        "                                                bins=24, ax=axes[1],color='r')\n",
        "axes[1].set_title('Country 87 fraud transactions by hour of day')\n",
        "plotbyFrequentCountry(train_data1_5_not_fraud).hist('TransactionDT_time',\n",
        "                                                    bins=24, ax=axes[2],color='g')\n",
        "axes[2].set_title('Country 87 non-fraud transactions by hour of day')\n",
        "plt.show()"
      ],
      "execution_count": 23,
      "outputs": [
        {
          "output_type": "stream",
          "text": [
            "The most frequently occuring country code in data is : 87.0\n"
          ],
          "name": "stdout"
        },
        {
          "output_type": "display_data",
          "data": {
            "image/png": "[encoded data removed]",
            "text/plain": [
              "<Figure size 1440x360 with 3 Axes>"
            ]
          },
          "metadata": {
            "tags": []
          }
        }
      ]
    },
    {
      "cell_type": "markdown",
      "metadata": {
        "id": "PPQN-5quuZNh",
        "colab_type": "text"
      },
      "source": [
        "## Observations - Part 2\n",
        "\n",
        "*   It is evident from the plots that the period [5-11] is sleeping hours for country 87. Other times have sufficient transactions to label them as waking hours.\n",
        "*   Also, if we compare the fraud transactions plot with the other two plots, we can observe that relative occurence of fraudelent transactions at sleeping hours is more than non fraudelent transactions.\n",
        "\n",
        "\n",
        "Note : These are relative values and don't actually tell anything about the timezone of the country."
      ]
    },
    {
      "cell_type": "markdown",
      "metadata": {
        "id": "FKgoLmODOTa2",
        "colab_type": "text"
      },
      "source": [
        "## Part 3 - Product Code"
      ]
    },
    {
      "cell_type": "code",
      "metadata": {
        "trusted": true,
        "id": "2hkWHhfAOTa4",
        "colab_type": "code",
        "outputId": "23ea4aa7-b2dd-4e5b-9dbf-db408c43c92b",
        "colab": {
          "base_uri": "https://localhost:8080/",
          "height": 350
        }
      },
      "source": [
        "fig, axes = plt.subplots(1, 3,figsize=(20,5))\n",
        "sns.catplot(x=\"ProductCD\", y=\"TransactionAmt\", kind=\"box\",\n",
        "            data=train_data1_5,sharey=False,ax=axes[0]);\n",
        "axes[0].set_title('Box plot for all TransactionAmt')\n",
        "sns.catplot(x=\"ProductCD\", y=\"TransactionAmt\",\n",
        "            data=train_data1_5,sharey=False,ax=axes[1]);\n",
        "axes[1].set_title('Scatter plot for all TransactionAmt')\n",
        "train_data1_5_cheapest = train_data1_5.loc[train_data1_5['TransactionAmt']<=5.0]\n",
        "sns.catplot(x=\"ProductCD\", y=\"TransactionAmt\",\n",
        "            data=train_data1_5_cheapest,sharey=False,ax=axes[2]);\n",
        "axes[2].set_title('Scatter plot For TransactionAmt <= 5')\n",
        "plt.close(2)\n",
        "plt.close(3)\n",
        "plt.close(4)\n",
        "plt.show()"
      ],
      "execution_count": 24,
      "outputs": [
        {
          "output_type": "display_data",
          "data": {
            "image/png": "[encoded data removed]",
            "text/plain": [
              "<Figure size 1440x360 with 3 Axes>"
            ]
          },
          "metadata": {
            "tags": []
          }
        }
      ]
    },
    {
      "cell_type": "markdown",
      "metadata": {
        "id": "WspRxnKQ_bMp",
        "colab_type": "text"
      },
      "source": [
        "## Observations - Part 3\n",
        "*Box plot* : 'R' seems to be having highest mean of transactionAmt values , but that doesn't clearly tell if its having the most expensive products.\n",
        "\n",
        "*Scatter plot1* : Here, it is evident that '**W**' product code is associated with the **most** **expensive** products, but we still cannot judge which code has the least expensive ones.\n",
        "\n",
        "*Scatter plot2* : This contains TransactionAmts <= 5.0 . Now, it is evident, that 'C' contains a lot of products valued less than <=5.0 as compared to the other product codes. Thus, '**C**' is associated with the **least** **expensive** products."
      ]
    },
    {
      "cell_type": "markdown",
      "metadata": {
        "id": "PVb8p8wjOTa9",
        "colab_type": "text"
      },
      "source": [
        "## Part 4 - Correlation Coefficient"
      ]
    },
    {
      "cell_type": "code",
      "metadata": {
        "trusted": true,
        "id": "kr9-fjNLOTa-",
        "colab_type": "code",
        "outputId": "5f11b7b0-0efd-44ca-d3d8-87003b2ba754",
        "colab": {
          "base_uri": "https://localhost:8080/",
          "height": 519
        }
      },
      "source": [
        "fig, ax = plt.subplots(figsize=(8,8))\n",
        "sns.catplot(x=\"TransactionDT_time\", y=\"TransactionAmt\" ,kind=\"bar\", data=train_data1_5,ax=ax);\n",
        "plt.close(2)\n",
        "train_data1_5['TransactionDT_time'].corr(train_data1_5['TransactionAmt'])"
      ],
      "execution_count": 25,
      "outputs": [
        {
          "output_type": "execute_result",
          "data": {
            "text/plain": [
              "0.04537096589856998"
            ]
          },
          "metadata": {
            "tags": []
          },
          "execution_count": 25
        },
        {
          "output_type": "display_data",
          "data": {
            "image/png": "[encoded data removed]",
            "text/plain": [
              "<Figure size 576x576 with 1 Axes>"
            ]
          },
          "metadata": {
            "tags": []
          }
        }
      ]
    },
    {
      "cell_type": "markdown",
      "metadata": {
        "id": "aw3kekW-4aDW",
        "colab_type": "text"
      },
      "source": [
        "Correlation coefficient comes out to be : **0.04537096589856998** <br>\n",
        "The plot represents the mean purchase amount at every hour of day.\n"
      ]
    },
    {
      "cell_type": "markdown",
      "metadata": {
        "id": "AZ78DKA3OTbH",
        "colab_type": "text"
      },
      "source": [
        "## Part 5 - Interesting Plot"
      ]
    },
    {
      "cell_type": "code",
      "metadata": {
        "trusted": true,
        "id": "va4A3WbnOTbS",
        "colab_type": "code",
        "outputId": "2cd3f6c4-3b6a-4341-8ffd-b62c3aa8eaae",
        "colab": {
          "base_uri": "https://localhost:8080/",
          "height": 618
        }
      },
      "source": [
        "fig, ax = plt.subplots(figsize=(8,8))\n",
        "sns.set(font_scale=0.75)\n",
        "corr = train_data1_5.loc[:,train_data1_5.dtypes != 'object'].corr()\n",
        "sns.heatmap(corr, xticklabels=corr.columns, yticklabels=corr.columns,cbar=True,\n",
        "            annot=True, square=True, fmt='.2f',ax=ax)"
      ],
      "execution_count": 26,
      "outputs": [
        {
          "output_type": "execute_result",
          "data": {
            "text/plain": [
              "<matplotlib.axes._subplots.AxesSubplot at 0x7fa1152d8438>"
            ]
          },
          "metadata": {
            "tags": []
          },
          "execution_count": 26
        },
        {
          "output_type": "display_data",
          "data": {
            "image/png": "[encoded data removed]",
            "text/plain": [
              "<Figure size 576x576 with 2 Axes>"
            ]
          },
          "metadata": {
            "tags": []
          }
        }
      ]
    },
    {
      "cell_type": "markdown",
      "metadata": {
        "id": "pqhTYDLJmOeH",
        "colab_type": "text"
      },
      "source": [
        "## Interesting plot - 0\n",
        "\n",
        "The heatmap is a good plot to try to start analyze a lot of features together. So keeping that in mind, I plotted heatmap of the given features for Q1-5. But the problem here is 'isFraud' doesn't seem to correlate well with the given features. We get high correlation between 'ProductCD' and 'DeviceType' though and also, there is some correlation between 'DeviceType' and 'card6'. Let's analyze these features wrt 'isFraud'.\n",
        "\n"
      ]
    },
    {
      "cell_type": "code",
      "metadata": {
        "trusted": true,
        "id": "IzwKM80cOTbV",
        "colab_type": "code",
        "outputId": "2ffe8e29-51de-42cb-c137-f6fcb46a0d44",
        "colab": {
          "base_uri": "https://localhost:8080/",
          "height": 371
        }
      },
      "source": [
        "sns.catplot(x=\"isFraud\", y=\"card6\", hue=\"DeviceType\",kind=\"bar\", data=train_data1_5);"
      ],
      "execution_count": 27,
      "outputs": [
        {
          "output_type": "display_data",
          "data": {
            "image/png": "[encoded data removed]",
            "text/plain": [
              "<Figure size 422.825x360 with 1 Axes>"
            ]
          },
          "metadata": {
            "tags": []
          }
        }
      ]
    },
    {
      "cell_type": "markdown",
      "metadata": {
        "id": "mF8A3D7xOTbY",
        "colab_type": "text"
      },
      "source": [
        "## Interesting plot - 1\n",
        "\n",
        "After plotting several features which were highly correlated, I found this plot to be interesting.  <br>\n",
        "The crux of this plot is that if transaction is done with credit card using a mobile, the probability of it being fraudelent is highest than other combos. It might have to do something with a bug or low security of the mobile app while doing credit card transactions."
      ]
    },
    {
      "cell_type": "code",
      "metadata": {
        "trusted": true,
        "id": "esczZfipOTbZ",
        "colab_type": "code",
        "outputId": "ff693fae-8b49-4509-f583-7ac1f48cb463",
        "colab": {
          "base_uri": "https://localhost:8080/",
          "height": 371
        }
      },
      "source": [
        "sns.catplot(x=\"TransactionDT_time\", y=\"isFraud\",kind=\"bar\", data=train_data1_5);"
      ],
      "execution_count": 29,
      "outputs": [
        {
          "output_type": "display_data",
          "data": {
            "image/png": "[encoded data removed]",
            "text/plain": [
              "<Figure size 360x360 with 1 Axes>"
            ]
          },
          "metadata": {
            "tags": []
          }
        }
      ]
    },
    {
      "cell_type": "markdown",
      "metadata": {
        "id": "HY4XjO2xOTbc",
        "colab_type": "text"
      },
      "source": [
        "## Interesting plot - 2\n",
        "\n",
        "This plot is between the hour of day at which transaction was made and isFraud. <br>\n",
        "We already observed the waking and sleeping hours in Part 2, which were [5-11] and if we look carefully, we observe that the chances of fraudelent transactions are higher during sleeping hours. This seems a really good indicator of the time when fraudelent transactions are expected to happen."
      ]
    },
    {
      "cell_type": "markdown",
      "metadata": {
        "id": "It3xksQoOTbd",
        "colab_type": "text"
      },
      "source": [
        "## Part 6 - Prediction Model"
      ]
    },
    {
      "cell_type": "markdown",
      "metadata": {
        "id": "m7uFdqgjsOIW",
        "colab_type": "text"
      },
      "source": [
        "**6.1 Analyzing data**"
      ]
    },
    {
      "cell_type": "code",
      "metadata": {
        "trusted": true,
        "id": "RvpBNGeUOTbe",
        "colab_type": "code",
        "outputId": "0c6f3dde-390c-4f89-e9b6-24b445826b57",
        "colab": {
          "base_uri": "https://localhost:8080/",
          "height": 261
        }
      },
      "source": [
        "# Peeking into train transaction data\n",
        "print(train_data_tr.shape)\n",
        "train_data_tr.head()"
      ],
      "execution_count": 0,
      "outputs": [
        {
          "output_type": "stream",
          "text": [
            "(590540, 394)\n"
          ],
          "name": "stdout"
        },
        {
          "output_type": "execute_result",
          "data": {
            "text/html": [
              "<div>\n",
              "<style scoped>\n",
              "    .dataframe tbody tr th:only-of-type {\n",
              "        vertical-align: middle;\n",
              "    }\n",
              "\n",
              "    .dataframe tbody tr th {\n",
              "        vertical-align: top;\n",
              "    }\n",
              "\n",
              "    .dataframe thead th {\n",
              "        text-align: right;\n",
              "    }\n",
              "</style>\n",
              "<table border=\"1\" class=\"dataframe\">\n",
              "  <thead>\n",
              "    <tr style=\"text-align: right;\">\n",
              "      <th></th>\n",
              "      <th>TransactionID</th>\n",
              "      <th>isFraud</th>\n",
              "      <th>TransactionDT</th>\n",
              "      <th>TransactionAmt</th>\n",
              "      <th>ProductCD</th>\n",
              "      <th>card1</th>\n",
              "      <th>card2</th>\n",
              "      <th>card3</th>\n",
              "      <th>card4</th>\n",
              "      <th>card5</th>\n",
              "      <th>card6</th>\n",
              "      <th>addr1</th>\n",
              "      <th>addr2</th>\n",
              "      <th>dist1</th>\n",
              "      <th>dist2</th>\n",
              "      <th>P_emaildomain</th>\n",
              "      <th>R_emaildomain</th>\n",
              "      <th>C1</th>\n",
              "      <th>C2</th>\n",
              "      <th>C3</th>\n",
              "      <th>C4</th>\n",
              "      <th>C5</th>\n",
              "      <th>C6</th>\n",
              "      <th>C7</th>\n",
              "      <th>C8</th>\n",
              "      <th>C9</th>\n",
              "      <th>C10</th>\n",
              "      <th>C11</th>\n",
              "      <th>C12</th>\n",
              "      <th>C13</th>\n",
              "      <th>C14</th>\n",
              "      <th>D1</th>\n",
              "      <th>D2</th>\n",
              "      <th>D3</th>\n",
              "      <th>D4</th>\n",
              "      <th>D5</th>\n",
              "      <th>D6</th>\n",
              "      <th>D7</th>\n",
              "      <th>D8</th>\n",
              "      <th>D9</th>\n",
              "      <th>...</th>\n",
              "      <th>V300</th>\n",
              "      <th>V301</th>\n",
              "      <th>V302</th>\n",
              "      <th>V303</th>\n",
              "      <th>V304</th>\n",
              "      <th>V305</th>\n",
              "      <th>V306</th>\n",
              "      <th>V307</th>\n",
              "      <th>V308</th>\n",
              "      <th>V309</th>\n",
              "      <th>V310</th>\n",
              "      <th>V311</th>\n",
              "      <th>V312</th>\n",
              "      <th>V313</th>\n",
              "      <th>V314</th>\n",
              "      <th>V315</th>\n",
              "      <th>V316</th>\n",
              "      <th>V317</th>\n",
              "      <th>V318</th>\n",
              "      <th>V319</th>\n",
              "      <th>V320</th>\n",
              "      <th>V321</th>\n",
              "      <th>V322</th>\n",
              "      <th>V323</th>\n",
              "      <th>V324</th>\n",
              "      <th>V325</th>\n",
              "      <th>V326</th>\n",
              "      <th>V327</th>\n",
              "      <th>V328</th>\n",
              "      <th>V329</th>\n",
              "      <th>V330</th>\n",
              "      <th>V331</th>\n",
              "      <th>V332</th>\n",
              "      <th>V333</th>\n",
              "      <th>V334</th>\n",
              "      <th>V335</th>\n",
              "      <th>V336</th>\n",
              "      <th>V337</th>\n",
              "      <th>V338</th>\n",
              "      <th>V339</th>\n",
              "    </tr>\n",
              "  </thead>\n",
              "  <tbody>\n",
              "    <tr>\n",
              "      <th>0</th>\n",
              "      <td>2987000</td>\n",
              "      <td>0</td>\n",
              "      <td>86400</td>\n",
              "      <td>68.5</td>\n",
              "      <td>W</td>\n",
              "      <td>13926</td>\n",
              "      <td>NaN</td>\n",
              "      <td>150.0</td>\n",
              "      <td>discover</td>\n",
              "      <td>142.0</td>\n",
              "      <td>credit</td>\n",
              "      <td>315.0</td>\n",
              "      <td>87.0</td>\n",
              "      <td>19.0</td>\n",
              "      <td>NaN</td>\n",
              "      <td>NaN</td>\n",
              "      <td>NaN</td>\n",
              "      <td>1.0</td>\n",
              "      <td>1.0</td>\n",
              "      <td>0.0</td>\n",
              "      <td>0.0</td>\n",
              "      <td>0.0</td>\n",
              "      <td>1.0</td>\n",
              "      <td>0.0</td>\n",
              "      <td>0.0</td>\n",
              "      <td>1.0</td>\n",
              "      <td>0.0</td>\n",
              "      <td>2.0</td>\n",
              "      <td>0.0</td>\n",
              "      <td>1.0</td>\n",
              "      <td>1.0</td>\n",
              "      <td>14.0</td>\n",
              "      <td>NaN</td>\n",
              "      <td>13.0</td>\n",
              "      <td>NaN</td>\n",
              "      <td>NaN</td>\n",
              "      <td>NaN</td>\n",
              "      <td>NaN</td>\n",
              "      <td>NaN</td>\n",
              "      <td>NaN</td>\n",
              "      <td>...</td>\n",
              "      <td>0.0</td>\n",
              "      <td>0.0</td>\n",
              "      <td>0.0</td>\n",
              "      <td>0.0</td>\n",
              "      <td>0.0</td>\n",
              "      <td>1.0</td>\n",
              "      <td>0.0</td>\n",
              "      <td>117.0</td>\n",
              "      <td>0.0</td>\n",
              "      <td>0.0</td>\n",
              "      <td>0.0</td>\n",
              "      <td>0.0</td>\n",
              "      <td>0.0</td>\n",
              "      <td>0.0</td>\n",
              "      <td>0.0</td>\n",
              "      <td>0.0</td>\n",
              "      <td>0.0</td>\n",
              "      <td>117.0</td>\n",
              "      <td>0.0</td>\n",
              "      <td>0.0</td>\n",
              "      <td>0.0</td>\n",
              "      <td>0.0</td>\n",
              "      <td>NaN</td>\n",
              "      <td>NaN</td>\n",
              "      <td>NaN</td>\n",
              "      <td>NaN</td>\n",
              "      <td>NaN</td>\n",
              "      <td>NaN</td>\n",
              "      <td>NaN</td>\n",
              "      <td>NaN</td>\n",
              "      <td>NaN</td>\n",
              "      <td>NaN</td>\n",
              "      <td>NaN</td>\n",
              "      <td>NaN</td>\n",
              "      <td>NaN</td>\n",
              "      <td>NaN</td>\n",
              "      <td>NaN</td>\n",
              "      <td>NaN</td>\n",
              "      <td>NaN</td>\n",
              "      <td>NaN</td>\n",
              "    </tr>\n",
              "    <tr>\n",
              "      <th>1</th>\n",
              "      <td>2987001</td>\n",
              "      <td>0</td>\n",
              "      <td>86401</td>\n",
              "      <td>29.0</td>\n",
              "      <td>W</td>\n",
              "      <td>2755</td>\n",
              "      <td>404.0</td>\n",
              "      <td>150.0</td>\n",
              "      <td>mastercard</td>\n",
              "      <td>102.0</td>\n",
              "      <td>credit</td>\n",
              "      <td>325.0</td>\n",
              "      <td>87.0</td>\n",
              "      <td>NaN</td>\n",
              "      <td>NaN</td>\n",
              "      <td>gmail.com</td>\n",
              "      <td>NaN</td>\n",
              "      <td>1.0</td>\n",
              "      <td>1.0</td>\n",
              "      <td>0.0</td>\n",
              "      <td>0.0</td>\n",
              "      <td>0.0</td>\n",
              "      <td>1.0</td>\n",
              "      <td>0.0</td>\n",
              "      <td>0.0</td>\n",
              "      <td>0.0</td>\n",
              "      <td>0.0</td>\n",
              "      <td>1.0</td>\n",
              "      <td>0.0</td>\n",
              "      <td>1.0</td>\n",
              "      <td>1.0</td>\n",
              "      <td>0.0</td>\n",
              "      <td>NaN</td>\n",
              "      <td>NaN</td>\n",
              "      <td>0.0</td>\n",
              "      <td>NaN</td>\n",
              "      <td>NaN</td>\n",
              "      <td>NaN</td>\n",
              "      <td>NaN</td>\n",
              "      <td>NaN</td>\n",
              "      <td>...</td>\n",
              "      <td>0.0</td>\n",
              "      <td>0.0</td>\n",
              "      <td>0.0</td>\n",
              "      <td>0.0</td>\n",
              "      <td>0.0</td>\n",
              "      <td>1.0</td>\n",
              "      <td>0.0</td>\n",
              "      <td>0.0</td>\n",
              "      <td>0.0</td>\n",
              "      <td>0.0</td>\n",
              "      <td>0.0</td>\n",
              "      <td>0.0</td>\n",
              "      <td>0.0</td>\n",
              "      <td>0.0</td>\n",
              "      <td>0.0</td>\n",
              "      <td>0.0</td>\n",
              "      <td>0.0</td>\n",
              "      <td>0.0</td>\n",
              "      <td>0.0</td>\n",
              "      <td>0.0</td>\n",
              "      <td>0.0</td>\n",
              "      <td>0.0</td>\n",
              "      <td>NaN</td>\n",
              "      <td>NaN</td>\n",
              "      <td>NaN</td>\n",
              "      <td>NaN</td>\n",
              "      <td>NaN</td>\n",
              "      <td>NaN</td>\n",
              "      <td>NaN</td>\n",
              "      <td>NaN</td>\n",
              "      <td>NaN</td>\n",
              "      <td>NaN</td>\n",
              "      <td>NaN</td>\n",
              "      <td>NaN</td>\n",
              "      <td>NaN</td>\n",
              "      <td>NaN</td>\n",
              "      <td>NaN</td>\n",
              "      <td>NaN</td>\n",
              "      <td>NaN</td>\n",
              "      <td>NaN</td>\n",
              "    </tr>\n",
              "    <tr>\n",
              "      <th>2</th>\n",
              "      <td>2987002</td>\n",
              "      <td>0</td>\n",
              "      <td>86469</td>\n",
              "      <td>59.0</td>\n",
              "      <td>W</td>\n",
              "      <td>4663</td>\n",
              "      <td>490.0</td>\n",
              "      <td>150.0</td>\n",
              "      <td>visa</td>\n",
              "      <td>166.0</td>\n",
              "      <td>debit</td>\n",
              "      <td>330.0</td>\n",
              "      <td>87.0</td>\n",
              "      <td>287.0</td>\n",
              "      <td>NaN</td>\n",
              "      <td>outlook.com</td>\n",
              "      <td>NaN</td>\n",
              "      <td>1.0</td>\n",
              "      <td>1.0</td>\n",
              "      <td>0.0</td>\n",
              "      <td>0.0</td>\n",
              "      <td>0.0</td>\n",
              "      <td>1.0</td>\n",
              "      <td>0.0</td>\n",
              "      <td>0.0</td>\n",
              "      <td>1.0</td>\n",
              "      <td>0.0</td>\n",
              "      <td>1.0</td>\n",
              "      <td>0.0</td>\n",
              "      <td>1.0</td>\n",
              "      <td>1.0</td>\n",
              "      <td>0.0</td>\n",
              "      <td>NaN</td>\n",
              "      <td>NaN</td>\n",
              "      <td>0.0</td>\n",
              "      <td>NaN</td>\n",
              "      <td>NaN</td>\n",
              "      <td>NaN</td>\n",
              "      <td>NaN</td>\n",
              "      <td>NaN</td>\n",
              "      <td>...</td>\n",
              "      <td>0.0</td>\n",
              "      <td>0.0</td>\n",
              "      <td>0.0</td>\n",
              "      <td>0.0</td>\n",
              "      <td>0.0</td>\n",
              "      <td>1.0</td>\n",
              "      <td>0.0</td>\n",
              "      <td>0.0</td>\n",
              "      <td>0.0</td>\n",
              "      <td>0.0</td>\n",
              "      <td>0.0</td>\n",
              "      <td>0.0</td>\n",
              "      <td>0.0</td>\n",
              "      <td>0.0</td>\n",
              "      <td>0.0</td>\n",
              "      <td>0.0</td>\n",
              "      <td>0.0</td>\n",
              "      <td>0.0</td>\n",
              "      <td>0.0</td>\n",
              "      <td>0.0</td>\n",
              "      <td>0.0</td>\n",
              "      <td>0.0</td>\n",
              "      <td>NaN</td>\n",
              "      <td>NaN</td>\n",
              "      <td>NaN</td>\n",
              "      <td>NaN</td>\n",
              "      <td>NaN</td>\n",
              "      <td>NaN</td>\n",
              "      <td>NaN</td>\n",
              "      <td>NaN</td>\n",
              "      <td>NaN</td>\n",
              "      <td>NaN</td>\n",
              "      <td>NaN</td>\n",
              "      <td>NaN</td>\n",
              "      <td>NaN</td>\n",
              "      <td>NaN</td>\n",
              "      <td>NaN</td>\n",
              "      <td>NaN</td>\n",
              "      <td>NaN</td>\n",
              "      <td>NaN</td>\n",
              "    </tr>\n",
              "    <tr>\n",
              "      <th>3</th>\n",
              "      <td>2987003</td>\n",
              "      <td>0</td>\n",
              "      <td>86499</td>\n",
              "      <td>50.0</td>\n",
              "      <td>W</td>\n",
              "      <td>18132</td>\n",
              "      <td>567.0</td>\n",
              "      <td>150.0</td>\n",
              "      <td>mastercard</td>\n",
              "      <td>117.0</td>\n",
              "      <td>debit</td>\n",
              "      <td>476.0</td>\n",
              "      <td>87.0</td>\n",
              "      <td>NaN</td>\n",
              "      <td>NaN</td>\n",
              "      <td>yahoo.com</td>\n",
              "      <td>NaN</td>\n",
              "      <td>2.0</td>\n",
              "      <td>5.0</td>\n",
              "      <td>0.0</td>\n",
              "      <td>0.0</td>\n",
              "      <td>0.0</td>\n",
              "      <td>4.0</td>\n",
              "      <td>0.0</td>\n",
              "      <td>0.0</td>\n",
              "      <td>1.0</td>\n",
              "      <td>0.0</td>\n",
              "      <td>1.0</td>\n",
              "      <td>0.0</td>\n",
              "      <td>25.0</td>\n",
              "      <td>1.0</td>\n",
              "      <td>112.0</td>\n",
              "      <td>112.0</td>\n",
              "      <td>0.0</td>\n",
              "      <td>94.0</td>\n",
              "      <td>0.0</td>\n",
              "      <td>NaN</td>\n",
              "      <td>NaN</td>\n",
              "      <td>NaN</td>\n",
              "      <td>NaN</td>\n",
              "      <td>...</td>\n",
              "      <td>0.0</td>\n",
              "      <td>0.0</td>\n",
              "      <td>0.0</td>\n",
              "      <td>0.0</td>\n",
              "      <td>0.0</td>\n",
              "      <td>1.0</td>\n",
              "      <td>50.0</td>\n",
              "      <td>1758.0</td>\n",
              "      <td>925.0</td>\n",
              "      <td>0.0</td>\n",
              "      <td>354.0</td>\n",
              "      <td>0.0</td>\n",
              "      <td>135.0</td>\n",
              "      <td>0.0</td>\n",
              "      <td>0.0</td>\n",
              "      <td>0.0</td>\n",
              "      <td>50.0</td>\n",
              "      <td>1404.0</td>\n",
              "      <td>790.0</td>\n",
              "      <td>0.0</td>\n",
              "      <td>0.0</td>\n",
              "      <td>0.0</td>\n",
              "      <td>NaN</td>\n",
              "      <td>NaN</td>\n",
              "      <td>NaN</td>\n",
              "      <td>NaN</td>\n",
              "      <td>NaN</td>\n",
              "      <td>NaN</td>\n",
              "      <td>NaN</td>\n",
              "      <td>NaN</td>\n",
              "      <td>NaN</td>\n",
              "      <td>NaN</td>\n",
              "      <td>NaN</td>\n",
              "      <td>NaN</td>\n",
              "      <td>NaN</td>\n",
              "      <td>NaN</td>\n",
              "      <td>NaN</td>\n",
              "      <td>NaN</td>\n",
              "      <td>NaN</td>\n",
              "      <td>NaN</td>\n",
              "    </tr>\n",
              "    <tr>\n",
              "      <th>4</th>\n",
              "      <td>2987004</td>\n",
              "      <td>0</td>\n",
              "      <td>86506</td>\n",
              "      <td>50.0</td>\n",
              "      <td>H</td>\n",
              "      <td>4497</td>\n",
              "      <td>514.0</td>\n",
              "      <td>150.0</td>\n",
              "      <td>mastercard</td>\n",
              "      <td>102.0</td>\n",
              "      <td>credit</td>\n",
              "      <td>420.0</td>\n",
              "      <td>87.0</td>\n",
              "      <td>NaN</td>\n",
              "      <td>NaN</td>\n",
              "      <td>gmail.com</td>\n",
              "      <td>NaN</td>\n",
              "      <td>1.0</td>\n",
              "      <td>1.0</td>\n",
              "      <td>0.0</td>\n",
              "      <td>0.0</td>\n",
              "      <td>0.0</td>\n",
              "      <td>1.0</td>\n",
              "      <td>0.0</td>\n",
              "      <td>1.0</td>\n",
              "      <td>0.0</td>\n",
              "      <td>1.0</td>\n",
              "      <td>1.0</td>\n",
              "      <td>0.0</td>\n",
              "      <td>1.0</td>\n",
              "      <td>1.0</td>\n",
              "      <td>0.0</td>\n",
              "      <td>NaN</td>\n",
              "      <td>NaN</td>\n",
              "      <td>NaN</td>\n",
              "      <td>NaN</td>\n",
              "      <td>NaN</td>\n",
              "      <td>NaN</td>\n",
              "      <td>NaN</td>\n",
              "      <td>NaN</td>\n",
              "      <td>...</td>\n",
              "      <td>0.0</td>\n",
              "      <td>0.0</td>\n",
              "      <td>1.0</td>\n",
              "      <td>1.0</td>\n",
              "      <td>1.0</td>\n",
              "      <td>1.0</td>\n",
              "      <td>0.0</td>\n",
              "      <td>0.0</td>\n",
              "      <td>0.0</td>\n",
              "      <td>0.0</td>\n",
              "      <td>0.0</td>\n",
              "      <td>0.0</td>\n",
              "      <td>0.0</td>\n",
              "      <td>0.0</td>\n",
              "      <td>0.0</td>\n",
              "      <td>0.0</td>\n",
              "      <td>0.0</td>\n",
              "      <td>0.0</td>\n",
              "      <td>0.0</td>\n",
              "      <td>0.0</td>\n",
              "      <td>0.0</td>\n",
              "      <td>0.0</td>\n",
              "      <td>0.0</td>\n",
              "      <td>0.0</td>\n",
              "      <td>0.0</td>\n",
              "      <td>0.0</td>\n",
              "      <td>0.0</td>\n",
              "      <td>0.0</td>\n",
              "      <td>0.0</td>\n",
              "      <td>0.0</td>\n",
              "      <td>0.0</td>\n",
              "      <td>0.0</td>\n",
              "      <td>0.0</td>\n",
              "      <td>0.0</td>\n",
              "      <td>0.0</td>\n",
              "      <td>0.0</td>\n",
              "      <td>0.0</td>\n",
              "      <td>0.0</td>\n",
              "      <td>0.0</td>\n",
              "      <td>0.0</td>\n",
              "    </tr>\n",
              "  </tbody>\n",
              "</table>\n",
              "<p>5 rows × 394 columns</p>\n",
              "</div>"
            ],
            "text/plain": [
              "   TransactionID  isFraud  TransactionDT  ...  V337 V338  V339\n",
              "0        2987000        0          86400  ...   NaN  NaN   NaN\n",
              "1        2987001        0          86401  ...   NaN  NaN   NaN\n",
              "2        2987002        0          86469  ...   NaN  NaN   NaN\n",
              "3        2987003        0          86499  ...   NaN  NaN   NaN\n",
              "4        2987004        0          86506  ...   0.0  0.0   0.0\n",
              "\n",
              "[5 rows x 394 columns]"
            ]
          },
          "metadata": {
            "tags": []
          },
          "execution_count": 25
        }
      ]
    },
    {
      "cell_type": "code",
      "metadata": {
        "trusted": true,
        "id": "lAd8xQwbOTbh",
        "colab_type": "code",
        "outputId": "b70f61e7-e509-4ef3-9419-68164fc1cde4",
        "colab": {
          "base_uri": "https://localhost:8080/",
          "height": 367
        }
      },
      "source": [
        "# Peeking into train identity data\n",
        "print(train_data_id.shape)\n",
        "train_data_id.head()"
      ],
      "execution_count": 0,
      "outputs": [
        {
          "output_type": "stream",
          "text": [
            "(144233, 41)\n"
          ],
          "name": "stdout"
        },
        {
          "output_type": "execute_result",
          "data": {
            "text/html": [
              "<div>\n",
              "<style scoped>\n",
              "    .dataframe tbody tr th:only-of-type {\n",
              "        vertical-align: middle;\n",
              "    }\n",
              "\n",
              "    .dataframe tbody tr th {\n",
              "        vertical-align: top;\n",
              "    }\n",
              "\n",
              "    .dataframe thead th {\n",
              "        text-align: right;\n",
              "    }\n",
              "</style>\n",
              "<table border=\"1\" class=\"dataframe\">\n",
              "  <thead>\n",
              "    <tr style=\"text-align: right;\">\n",
              "      <th></th>\n",
              "      <th>TransactionID</th>\n",
              "      <th>id_01</th>\n",
              "      <th>id_02</th>\n",
              "      <th>id_03</th>\n",
              "      <th>id_04</th>\n",
              "      <th>id_05</th>\n",
              "      <th>id_06</th>\n",
              "      <th>id_07</th>\n",
              "      <th>id_08</th>\n",
              "      <th>id_09</th>\n",
              "      <th>id_10</th>\n",
              "      <th>id_11</th>\n",
              "      <th>id_12</th>\n",
              "      <th>id_13</th>\n",
              "      <th>id_14</th>\n",
              "      <th>id_15</th>\n",
              "      <th>id_16</th>\n",
              "      <th>id_17</th>\n",
              "      <th>id_18</th>\n",
              "      <th>id_19</th>\n",
              "      <th>id_20</th>\n",
              "      <th>id_21</th>\n",
              "      <th>id_22</th>\n",
              "      <th>id_23</th>\n",
              "      <th>id_24</th>\n",
              "      <th>id_25</th>\n",
              "      <th>id_26</th>\n",
              "      <th>id_27</th>\n",
              "      <th>id_28</th>\n",
              "      <th>id_29</th>\n",
              "      <th>id_30</th>\n",
              "      <th>id_31</th>\n",
              "      <th>id_32</th>\n",
              "      <th>id_33</th>\n",
              "      <th>id_34</th>\n",
              "      <th>id_35</th>\n",
              "      <th>id_36</th>\n",
              "      <th>id_37</th>\n",
              "      <th>id_38</th>\n",
              "      <th>DeviceType</th>\n",
              "      <th>DeviceInfo</th>\n",
              "    </tr>\n",
              "  </thead>\n",
              "  <tbody>\n",
              "    <tr>\n",
              "      <th>0</th>\n",
              "      <td>2987004</td>\n",
              "      <td>0.0</td>\n",
              "      <td>70787.0</td>\n",
              "      <td>NaN</td>\n",
              "      <td>NaN</td>\n",
              "      <td>NaN</td>\n",
              "      <td>NaN</td>\n",
              "      <td>NaN</td>\n",
              "      <td>NaN</td>\n",
              "      <td>NaN</td>\n",
              "      <td>NaN</td>\n",
              "      <td>100.0</td>\n",
              "      <td>NotFound</td>\n",
              "      <td>NaN</td>\n",
              "      <td>-480.0</td>\n",
              "      <td>New</td>\n",
              "      <td>NotFound</td>\n",
              "      <td>166.0</td>\n",
              "      <td>NaN</td>\n",
              "      <td>542.0</td>\n",
              "      <td>144.0</td>\n",
              "      <td>NaN</td>\n",
              "      <td>NaN</td>\n",
              "      <td>NaN</td>\n",
              "      <td>NaN</td>\n",
              "      <td>NaN</td>\n",
              "      <td>NaN</td>\n",
              "      <td>NaN</td>\n",
              "      <td>New</td>\n",
              "      <td>NotFound</td>\n",
              "      <td>Android 7.0</td>\n",
              "      <td>samsung browser 6.2</td>\n",
              "      <td>32.0</td>\n",
              "      <td>2220x1080</td>\n",
              "      <td>match_status:2</td>\n",
              "      <td>T</td>\n",
              "      <td>F</td>\n",
              "      <td>T</td>\n",
              "      <td>T</td>\n",
              "      <td>mobile</td>\n",
              "      <td>SAMSUNG SM-G892A Build/NRD90M</td>\n",
              "    </tr>\n",
              "    <tr>\n",
              "      <th>1</th>\n",
              "      <td>2987008</td>\n",
              "      <td>-5.0</td>\n",
              "      <td>98945.0</td>\n",
              "      <td>NaN</td>\n",
              "      <td>NaN</td>\n",
              "      <td>0.0</td>\n",
              "      <td>-5.0</td>\n",
              "      <td>NaN</td>\n",
              "      <td>NaN</td>\n",
              "      <td>NaN</td>\n",
              "      <td>NaN</td>\n",
              "      <td>100.0</td>\n",
              "      <td>NotFound</td>\n",
              "      <td>49.0</td>\n",
              "      <td>-300.0</td>\n",
              "      <td>New</td>\n",
              "      <td>NotFound</td>\n",
              "      <td>166.0</td>\n",
              "      <td>NaN</td>\n",
              "      <td>621.0</td>\n",
              "      <td>500.0</td>\n",
              "      <td>NaN</td>\n",
              "      <td>NaN</td>\n",
              "      <td>NaN</td>\n",
              "      <td>NaN</td>\n",
              "      <td>NaN</td>\n",
              "      <td>NaN</td>\n",
              "      <td>NaN</td>\n",
              "      <td>New</td>\n",
              "      <td>NotFound</td>\n",
              "      <td>iOS 11.1.2</td>\n",
              "      <td>mobile safari 11.0</td>\n",
              "      <td>32.0</td>\n",
              "      <td>1334x750</td>\n",
              "      <td>match_status:1</td>\n",
              "      <td>T</td>\n",
              "      <td>F</td>\n",
              "      <td>F</td>\n",
              "      <td>T</td>\n",
              "      <td>mobile</td>\n",
              "      <td>iOS Device</td>\n",
              "    </tr>\n",
              "    <tr>\n",
              "      <th>2</th>\n",
              "      <td>2987010</td>\n",
              "      <td>-5.0</td>\n",
              "      <td>191631.0</td>\n",
              "      <td>0.0</td>\n",
              "      <td>0.0</td>\n",
              "      <td>0.0</td>\n",
              "      <td>0.0</td>\n",
              "      <td>NaN</td>\n",
              "      <td>NaN</td>\n",
              "      <td>0.0</td>\n",
              "      <td>0.0</td>\n",
              "      <td>100.0</td>\n",
              "      <td>NotFound</td>\n",
              "      <td>52.0</td>\n",
              "      <td>NaN</td>\n",
              "      <td>Found</td>\n",
              "      <td>Found</td>\n",
              "      <td>121.0</td>\n",
              "      <td>NaN</td>\n",
              "      <td>410.0</td>\n",
              "      <td>142.0</td>\n",
              "      <td>NaN</td>\n",
              "      <td>NaN</td>\n",
              "      <td>NaN</td>\n",
              "      <td>NaN</td>\n",
              "      <td>NaN</td>\n",
              "      <td>NaN</td>\n",
              "      <td>NaN</td>\n",
              "      <td>Found</td>\n",
              "      <td>Found</td>\n",
              "      <td>NaN</td>\n",
              "      <td>chrome 62.0</td>\n",
              "      <td>NaN</td>\n",
              "      <td>NaN</td>\n",
              "      <td>NaN</td>\n",
              "      <td>F</td>\n",
              "      <td>F</td>\n",
              "      <td>T</td>\n",
              "      <td>T</td>\n",
              "      <td>desktop</td>\n",
              "      <td>Windows</td>\n",
              "    </tr>\n",
              "    <tr>\n",
              "      <th>3</th>\n",
              "      <td>2987011</td>\n",
              "      <td>-5.0</td>\n",
              "      <td>221832.0</td>\n",
              "      <td>NaN</td>\n",
              "      <td>NaN</td>\n",
              "      <td>0.0</td>\n",
              "      <td>-6.0</td>\n",
              "      <td>NaN</td>\n",
              "      <td>NaN</td>\n",
              "      <td>NaN</td>\n",
              "      <td>NaN</td>\n",
              "      <td>100.0</td>\n",
              "      <td>NotFound</td>\n",
              "      <td>52.0</td>\n",
              "      <td>NaN</td>\n",
              "      <td>New</td>\n",
              "      <td>NotFound</td>\n",
              "      <td>225.0</td>\n",
              "      <td>NaN</td>\n",
              "      <td>176.0</td>\n",
              "      <td>507.0</td>\n",
              "      <td>NaN</td>\n",
              "      <td>NaN</td>\n",
              "      <td>NaN</td>\n",
              "      <td>NaN</td>\n",
              "      <td>NaN</td>\n",
              "      <td>NaN</td>\n",
              "      <td>NaN</td>\n",
              "      <td>New</td>\n",
              "      <td>NotFound</td>\n",
              "      <td>NaN</td>\n",
              "      <td>chrome 62.0</td>\n",
              "      <td>NaN</td>\n",
              "      <td>NaN</td>\n",
              "      <td>NaN</td>\n",
              "      <td>F</td>\n",
              "      <td>F</td>\n",
              "      <td>T</td>\n",
              "      <td>T</td>\n",
              "      <td>desktop</td>\n",
              "      <td>NaN</td>\n",
              "    </tr>\n",
              "    <tr>\n",
              "      <th>4</th>\n",
              "      <td>2987016</td>\n",
              "      <td>0.0</td>\n",
              "      <td>7460.0</td>\n",
              "      <td>0.0</td>\n",
              "      <td>0.0</td>\n",
              "      <td>1.0</td>\n",
              "      <td>0.0</td>\n",
              "      <td>NaN</td>\n",
              "      <td>NaN</td>\n",
              "      <td>0.0</td>\n",
              "      <td>0.0</td>\n",
              "      <td>100.0</td>\n",
              "      <td>NotFound</td>\n",
              "      <td>NaN</td>\n",
              "      <td>-300.0</td>\n",
              "      <td>Found</td>\n",
              "      <td>Found</td>\n",
              "      <td>166.0</td>\n",
              "      <td>15.0</td>\n",
              "      <td>529.0</td>\n",
              "      <td>575.0</td>\n",
              "      <td>NaN</td>\n",
              "      <td>NaN</td>\n",
              "      <td>NaN</td>\n",
              "      <td>NaN</td>\n",
              "      <td>NaN</td>\n",
              "      <td>NaN</td>\n",
              "      <td>NaN</td>\n",
              "      <td>Found</td>\n",
              "      <td>Found</td>\n",
              "      <td>Mac OS X 10_11_6</td>\n",
              "      <td>chrome 62.0</td>\n",
              "      <td>24.0</td>\n",
              "      <td>1280x800</td>\n",
              "      <td>match_status:2</td>\n",
              "      <td>T</td>\n",
              "      <td>F</td>\n",
              "      <td>T</td>\n",
              "      <td>T</td>\n",
              "      <td>desktop</td>\n",
              "      <td>MacOS</td>\n",
              "    </tr>\n",
              "  </tbody>\n",
              "</table>\n",
              "</div>"
            ],
            "text/plain": [
              "   TransactionID  id_01  ...  DeviceType                     DeviceInfo\n",
              "0        2987004    0.0  ...      mobile  SAMSUNG SM-G892A Build/NRD90M\n",
              "1        2987008   -5.0  ...      mobile                     iOS Device\n",
              "2        2987010   -5.0  ...     desktop                        Windows\n",
              "3        2987011   -5.0  ...     desktop                            NaN\n",
              "4        2987016    0.0  ...     desktop                          MacOS\n",
              "\n",
              "[5 rows x 41 columns]"
            ]
          },
          "metadata": {
            "tags": []
          },
          "execution_count": 26
        }
      ]
    },
    {
      "cell_type": "code",
      "metadata": {
        "trusted": true,
        "id": "45pjUwnaOTbk",
        "colab_type": "code",
        "outputId": "eab71323-76c3-4435-92c4-e2848b7a5170",
        "colab": {
          "base_uri": "https://localhost:8080/",
          "height": 764
        }
      },
      "source": [
        "train_data_tr.isnull().sum()\n",
        "train_data_id.isnull().sum()"
      ],
      "execution_count": 0,
      "outputs": [
        {
          "output_type": "execute_result",
          "data": {
            "text/plain": [
              "TransactionID         0\n",
              "id_01                 0\n",
              "id_02              3361\n",
              "id_03             77909\n",
              "id_04             77909\n",
              "id_05              7368\n",
              "id_06              7368\n",
              "id_07            139078\n",
              "id_08            139078\n",
              "id_09             69307\n",
              "id_10             69307\n",
              "id_11              3255\n",
              "id_12                 0\n",
              "id_13             16913\n",
              "id_14             64189\n",
              "id_15              3248\n",
              "id_16             14893\n",
              "id_17              4864\n",
              "id_18             99120\n",
              "id_19              4915\n",
              "id_20              4972\n",
              "id_21            139074\n",
              "id_22            139064\n",
              "id_23            139064\n",
              "id_24            139486\n",
              "id_25            139101\n",
              "id_26            139070\n",
              "id_27            139064\n",
              "id_28              3255\n",
              "id_29              3255\n",
              "id_30             66668\n",
              "id_31              3951\n",
              "id_32             66647\n",
              "id_33             70944\n",
              "id_34             66428\n",
              "id_35              3248\n",
              "id_36              3248\n",
              "id_37              3248\n",
              "id_38              3248\n",
              "DeviceType         3423\n",
              "DeviceInfo        25567\n",
              "dtype: int64"
            ]
          },
          "metadata": {
            "tags": []
          },
          "execution_count": 27
        }
      ]
    },
    {
      "cell_type": "markdown",
      "metadata": {
        "id": "DRK5EI47OTbn",
        "colab_type": "text"
      },
      "source": [
        "We have a lot of missing data in both transaction and id datasets.\n",
        "Also, our class is imbalanced, since there are very less number of fraudelent transactions relative to the non fraudelent ones. (This was judged from plots in q1)."
      ]
    },
    {
      "cell_type": "code",
      "metadata": {
        "trusted": true,
        "id": "rjxfeLE1OTbo",
        "colab_type": "code",
        "colab": {}
      },
      "source": [
        "train_data['TransactionDT_date'] = train_data['TransactionDT'].apply(\n",
        "    lambda x: (startdate + datetime.timedelta(seconds = x)))\n",
        "test_data['TransactionDT_date'] = train_data['TransactionDT'].apply(\n",
        "    lambda x: (startdate + datetime.timedelta(seconds = x)))"
      ],
      "execution_count": 0,
      "outputs": []
    },
    {
      "cell_type": "code",
      "metadata": {
        "trusted": true,
        "id": "gAhb3K4nOTbr",
        "colab_type": "code",
        "outputId": "0caa0501-50ee-4ab4-afb6-0ac973ece5d5",
        "colab": {
          "base_uri": "https://localhost:8080/",
          "height": 310
        }
      },
      "source": [
        "plt.hist(train_data['TransactionDT'],bins=100,label='train')\n",
        "plt.hist(test_data['TransactionDT'],bins=100,label='test')\n",
        "plt.legend()\n",
        "plt.title('Distribution of TransactionDT variable')"
      ],
      "execution_count": 0,
      "outputs": [
        {
          "output_type": "execute_result",
          "data": {
            "text/plain": [
              "Text(0.5, 1.0, 'Distribution of TransactionDT variable')"
            ]
          },
          "metadata": {
            "tags": []
          },
          "execution_count": 29
        },
        {
          "output_type": "display_data",
          "data": {
            "image/png": "[encoded data removed]",
            "text/plain": [
              "<Figure size 432x288 with 1 Axes>"
            ]
          },
          "metadata": {
            "tags": []
          }
        }
      ]
    },
    {
      "cell_type": "markdown",
      "metadata": {
        "id": "aQvwmbxMOTbu",
        "colab_type": "text"
      },
      "source": [
        "train_data and test_data are given for different time periods and there seems to be some amount of gap between the two also."
      ]
    },
    {
      "cell_type": "markdown",
      "metadata": {
        "id": "_yHVtACAsWCA",
        "colab_type": "text"
      },
      "source": [
        "**6.2 Preprocessing data**"
      ]
    },
    {
      "cell_type": "code",
      "metadata": {
        "trusted": true,
        "id": "iIeZqf69OTbx",
        "colab_type": "code",
        "outputId": "8cd38c43-e302-4f1b-9874-4a06525023be",
        "colab": {
          "base_uri": "https://localhost:8080/",
          "height": 52
        }
      },
      "source": [
        "#Separating the features and labels for train data\n",
        "train_y = train_data['isFraud'].astype(\"uint8\").copy()\n",
        "train_x = train_data.drop('isFraud', axis=1)\n",
        "print(\"TrainX: \",train_x.shape)\n",
        "\n",
        "# Deleting dataframes that we no longer need\n",
        "del train_data, train_data_tr, train_data_id\n",
        "\n",
        "test_x = test_data.copy()\n",
        "print(\"TestX: \",test_x.shape)\n",
        "\n",
        "# Deleting dataframes that we no longer need\n",
        "del test_data, test_data_tr, test_data_id"
      ],
      "execution_count": 0,
      "outputs": [
        {
          "output_type": "stream",
          "text": [
            "TrainX:  (590540, 434)\n",
            "TestX:  (506691, 434)\n"
          ],
          "name": "stdout"
        }
      ]
    },
    {
      "cell_type": "code",
      "metadata": {
        "trusted": true,
        "id": "XC7o5KIOOTb0",
        "colab_type": "code",
        "colab": {}
      },
      "source": [
        "# Label encoding non-numerical data, so it can fit into the model\n",
        "for feature in train_x:\n",
        "    if train_x[feature].dtype=='object' or test_x[feature].dtype=='object': \n",
        "        lbl = preprocessing.LabelEncoder()\n",
        "        lbl.fit(list(train_x[feature].values) + list(test_x[feature].values))\n",
        "        train_x[feature] = lbl.transform(list(train_x[feature].values))\n",
        "        test_x[feature] = lbl.transform(list(test_x[feature].values))\n",
        "\n",
        "#No longer needed\n",
        "train_x = train_x.drop(['TransactionDT_date'],axis=1)\n",
        "test_x = test_x.drop(['TransactionDT_date'],axis=1)"
      ],
      "execution_count": 0,
      "outputs": []
    },
    {
      "cell_type": "code",
      "metadata": {
        "trusted": true,
        "id": "xJ_-TIhfOTb5",
        "colab_type": "code",
        "colab": {}
      },
      "source": [
        "train_x['TransactionAmt'] = np.log(train_x['TransactionAmt'])\n",
        "test_x['TransactionAmt'] = np.log(test_x['TransactionAmt'])\n",
        "\n",
        "#Repacing nan values with -1\n",
        "train_x.fillna(-1,inplace=True)\n",
        "test_x.fillna(-1,inplace=True)"
      ],
      "execution_count": 0,
      "outputs": []
    },
    {
      "cell_type": "code",
      "metadata": {
        "id": "B6xWHj7fb1qh",
        "colab_type": "code",
        "colab": {}
      },
      "source": [
        "def createFeat(base,feat):\n",
        "  train_x[base+'_to_'+param+'_'+feat] = train_x[base]/train_x.groupby(\n",
        "      [feat])[base].transform('mean')\n",
        "  test_x[base+'_to_'+param+'_'+feat] = test_x[base]/test_x.groupby(\n",
        "      [feat])[base].transform('mean')\n",
        "  train_x[base+'_to_'+param+'_'+feat] = train_x[base]/train_x.groupby(\n",
        "      [feat])[base].transform('std')\n",
        "  test_x[base+'_to_'+param+'_'+feat] = test_x[base]/test_x.groupby(\n",
        "      [feat])[base].transform('std')\n",
        "  \n",
        "createFeat('TransactionAmt','card1')\n",
        "createFeat('TransactionAmt','card4')\n",
        "createFeat('id_02','card1')\n",
        "createFeat('id_02','card4')\n",
        "createFeat('D15','card1')\n",
        "createFeat('D15','card4')\n",
        "createFeat('D15','addr1')\n",
        "createFeat('D15','addr2')\n",
        "\n",
        "#Repacing any newly created nan/inf values with -1\n",
        "train_x = train_x.replace([np.inf, -np.inf,np.nan], -1)\n",
        "test_x = test_x.replace([np.inf, -np.inf,np.nan], -1)"
      ],
      "execution_count": 0,
      "outputs": []
    },
    {
      "cell_type": "markdown",
      "metadata": {
        "id": "qmWUdmM71OSp",
        "colab_type": "text"
      },
      "source": [
        "**6.3 Extracting important features**"
      ]
    },
    {
      "cell_type": "code",
      "metadata": {
        "trusted": true,
        "id": "-DgdcRHGOTcA",
        "colab_type": "code",
        "colab": {}
      },
      "source": [
        "def plot_feature_importances(clf, X_train, y_train=None, \n",
        "                             top_n=10, figsize=(20,10), title=\"Feature Importances\"):\n",
        "    __name__ = \"plot_feature_importances\"\n",
        "    \n",
        "    try: \n",
        "        if not hasattr(clf, 'feature_importances_'):\n",
        "            clf.fit(X_train.values, y_train.values.ravel())\n",
        "\n",
        "            if not hasattr(clf, 'feature_importances_'):\n",
        "                raise AttributeError(\"{} does not have feature_importances_ attribute\".\n",
        "                                    format(clf.__class__.__name__))\n",
        "                \n",
        "    except (XGBoostError, LightGBMError, ValueError):\n",
        "        clf.fit(X_train.values, y_train.values.ravel())\n",
        "            \n",
        "    feat_imp = pd.DataFrame({'importance':clf.feature_importances_})    \n",
        "    feat_imp['feature'] = X_train.columns\n",
        "    feat_imp.sort_values(by='importance', ascending=False, inplace=True)\n",
        "    feat_imp1 = feat_imp\n",
        "    feat_imp = feat_imp.iloc[:top_n]\n",
        "    feat_imp = feat_imp.set_index('feature', drop=True)\n",
        "    feat_imp.plot.bar(title=title, figsize=figsize)\n",
        "    plt.hist(feat_imp)\n",
        "    plt.xlabel('Feature Importance Score')\n",
        "    plt.show()\n",
        "    return feat_imp1\n",
        "    "
      ],
      "execution_count": 0,
      "outputs": []
    },
    {
      "cell_type": "markdown",
      "metadata": {
        "id": "vwXm0O7QuGaq",
        "colab_type": "text"
      },
      "source": [
        "Here, I try to get the most important features for different classifiers using feature_importance, I save all this in their respective csvs , so I don't have to run it again and again. Then I use those rankings to extract the top 200 features across all classifiers and use them in my final model.\n",
        "<br> <br>\n",
        "Reference of plot_feature_importance function : https://www.kaggle.com/grfiv4/plotting-feature-importances\n"
      ]
    },
    {
      "cell_type": "code",
      "metadata": {
        "trusted": true,
        "id": "cKSw0q1-OTcG",
        "colab_type": "code",
        "outputId": "0490343e-ba58-4970-b202-6702d32fe2bf",
        "colab": {
          "base_uri": "https://localhost:8080/",
          "height": 55
        }
      },
      "source": [
        "most_important_features = []\n",
        "clfs = [XGBClassifier(),              LGBMClassifier(), \n",
        "        ExtraTreesClassifier(),       ExtraTreeClassifier(),\n",
        "        BaggingClassifier(),          DecisionTreeClassifier(),\n",
        "        GradientBoostingClassifier(), LogisticRegression(),\n",
        "        AdaBoostClassifier(),         RandomForestClassifier()]\n",
        "\n",
        "for clf in clfs:\n",
        "    try:\n",
        "        _ = plot_feature_importances(clf, train_x, train_y, top_n=200, \n",
        "                                     title=clf.__class__.__name__)\n",
        "        most_important_features.append(_)\n",
        "        print(most_important_features)\n",
        "    except AttributeError as e:\n",
        "        print(e)"
      ],
      "execution_count": 0,
      "outputs": [
        {
          "output_type": "execute_result",
          "data": {
            "text/plain": [
              "'clfs = [XGBClassifier(),              LGBMClassifier(), \\n        ExtraTreesClassifier(),       ExtraTreeClassifier(),\\n        BaggingClassifier(),          DecisionTreeClassifier(),\\n        GradientBoostingClassifier(), LogisticRegression(),\\n        AdaBoostClassifier(),         RandomForestClassifier()]\\n\\nfor clf in clfs:\\n    try:\\n        _ = plot_feature_importances(clf, train_x, train_y, top_n=100, title=clf.__class__.__name__)\\n        most_important_features.append(_)\\n        print(most_important_features)\\n    except AttributeError as e:\\n        print(e)'"
            ]
          },
          "metadata": {
            "tags": []
          },
          "execution_count": 35
        }
      ]
    },
    {
      "cell_type": "markdown",
      "metadata": {
        "id": "PlHZlzu-wRv_",
        "colab_type": "text"
      },
      "source": [
        "<img src = \"https://user-images.githubusercontent.com/8913742/65647384-8b020a80-dfcc-11e9-9e27-ab785de35cb7.png\" width=1500 height =500>\n",
        "<img src = \"https://user-images.githubusercontent.com/8913742/65647424-aa993300-dfcc-11e9-8f54-709d8529aaf3.png\" width=1500 height =500>\n",
        "<img src = \"https://user-images.githubusercontent.com/8913742/65647429-aa993300-dfcc-11e9-9098-80a85a15b7a9.png\" width=1500 height =500>\n",
        "<img src = \"https://user-images.githubusercontent.com/8913742/65647422-aa009c80-dfcc-11e9-801f-62717f7e9d93.png\" width=1500 height =500>\n",
        "<img src = \"https://user-images.githubusercontent.com/8913742/65647428-aa993300-dfcc-11e9-8210-e50f365ee2cd.png\" width=1500 height =500>\n",
        "<img src = \"https://user-images.githubusercontent.com/8913742/65647423-aa993300-dfcc-11e9-88e1-bd8e78b5a4b0.png\" width=1500 height =500>\n",
        "<img src = \"https://user-images.githubusercontent.com/8913742/65647427-aa993300-dfcc-11e9-8785-4782de75f878.png\" width=1500 height =500>\n",
        "<img src = \"https://user-images.githubusercontent.com/8913742/65647426-aa993300-dfcc-11e9-9923-114250698c37.png\" width=1500 height =500>"
      ]
    },
    {
      "cell_type": "code",
      "metadata": {
        "id": "FyzBzf4Fu9m0",
        "colab_type": "code",
        "outputId": "8f4a9eed-9ad5-4372-eac6-ce11443170c7",
        "colab": {
          "base_uri": "https://localhost:8080/",
          "height": 159
        }
      },
      "source": [
        "# save features for each model\n",
        "def storeResults(clf,filename):\n",
        "  clf.to_csv(filename)\n",
        "  files.download(filename)\n",
        "    \n",
        "# load features for each model  \n",
        "def loadResults():\n",
        "  for i in range(len(clfname)):\n",
        "    temp = readcsv(filepath[i],clfname[i]+\".csv\")\n",
        "    most_important_features.append(temp)\n",
        "  \n",
        "  \n",
        "clfname = ['XGBClassifier','LGBMClassifier','ExtraTreesClassifier',\n",
        "           'ExtraTreeClassifier','DecisionTreeClassifier','GradientBoostingClassifier',\n",
        "           'AdaBoostClassifier','RandomForestClassifier']\n",
        "\n",
        "# stored top features results for different classifiers in the following csv files/\n",
        "filepath =[\n",
        "    'https://drive.google.com/open?id=1x01Pz_MWaw_VlyQ5NehnibMPbSOeJePP',\n",
        "    'https://drive.google.com/open?id=1WM7FNtVDxZQT_bMkS_DH5WUqULiDYLZU',\n",
        "    'https://drive.google.com/open?id=1DPv1HMF_CXW1IYZycSGFJHztkDt5pesB',\n",
        "    'https://drive.google.com/open?id=1a2MOdDwsIBGJohHUHFEQvWDdzJwzc5vq',\n",
        "    'https://drive.google.com/open?id=1fTAPG66AKSLpaAiKWJ3DB82NK9wkIDwu',\n",
        "    'https://drive.google.com/open?id=1b86pAR9XnHn1MXg3kq7DqYOSMDQheFuC',\n",
        "    'https://drive.google.com/open?id=1caZW785BrHnzDfBhM9HTevjQsRFaEQ4y',\n",
        "    'https://drive.google.com/open?id=108_1fw1pNdjiSsI6savKFhvp1Jk_AOU5'\n",
        "]  \n",
        "\n",
        "\n",
        "# Use the following loop when you run the model for the first time to store results,\n",
        "#later comment it , and just load results.\n",
        "#for i in range(len(clfname)):\n",
        "#  storeResults(most_important_features[i],clfname[i]+'.csv')\n",
        "\n",
        "\n",
        "loadResults()"
      ],
      "execution_count": 0,
      "outputs": [
        {
          "output_type": "stream",
          "text": [
            "1x01Pz_MWaw_VlyQ5NehnibMPbSOeJePP\n",
            "1WM7FNtVDxZQT_bMkS_DH5WUqULiDYLZU\n",
            "1DPv1HMF_CXW1IYZycSGFJHztkDt5pesB\n",
            "1a2MOdDwsIBGJohHUHFEQvWDdzJwzc5vq\n",
            "1fTAPG66AKSLpaAiKWJ3DB82NK9wkIDwu\n",
            "1b86pAR9XnHn1MXg3kq7DqYOSMDQheFuC\n",
            "1caZW785BrHnzDfBhM9HTevjQsRFaEQ4y\n",
            "108_1fw1pNdjiSsI6savKFhvp1Jk_AOU5\n"
          ],
          "name": "stdout"
        }
      ]
    },
    {
      "cell_type": "code",
      "metadata": {
        "id": "e__a_3BfHsVz",
        "colab_type": "code",
        "colab": {}
      },
      "source": [
        "# Building a common raanking of features from all models\n",
        "global_importance = dict()\n",
        "most_important_features\n",
        "for i in range(0,len(most_important_features)):\n",
        "  cnt=1\n",
        "  for x in most_important_features[i]['feature']:\n",
        "    if(x not in global_importance.keys()):\n",
        "      global_importance[x]=cnt\n",
        "    else:\n",
        "      global_importance[x]=global_importance[x]+cnt\n",
        "    cnt=cnt+1\n",
        "sorted_global_importance = sorted(global_importance.items(), key=lambda x: x[1])\n",
        "sorted_global_importance_keys = [i[0] for i in sorted_global_importance]"
      ],
      "execution_count": 0,
      "outputs": []
    },
    {
      "cell_type": "markdown",
      "metadata": {
        "id": "XRr1XKcT1ahW",
        "colab_type": "text"
      },
      "source": [
        "**6.4 Modelling**"
      ]
    },
    {
      "cell_type": "code",
      "metadata": {
        "id": "ro0UlpElikFa",
        "colab_type": "code",
        "colab": {}
      },
      "source": [
        "#save the model to disk\n",
        "def saveModel(model,filename):\n",
        "  filename = 'finalized_model.sav'\n",
        "  pickle.dump(model, open(filename, 'wb'))\n",
        "  files.download(filename)\n",
        "\n",
        "#load model from disk\n",
        "#loaded_model = pickle.load(open(filename, 'rb'))\n",
        "#result = loaded_model.score(X_test, Y_test)\n",
        "#print(result)"
      ],
      "execution_count": 0,
      "outputs": []
    },
    {
      "cell_type": "markdown",
      "metadata": {
        "id": "gd7B7jLKNsZq",
        "colab_type": "text"
      },
      "source": [
        "Training the model on following 8 classifiers , first with their respective top 200 features, then with the global top features."
      ]
    },
    {
      "cell_type": "code",
      "metadata": {
        "id": "6LfoQPSFRqGa",
        "colab_type": "code",
        "colab": {}
      },
      "source": [
        "#function to train different models based on model Index \n",
        "# 0 : XGBClassifier\n",
        "# 1 : LGBMClassifier\n",
        "# 2 : ExtraTreesClassifier\n",
        "# 3 : ExtraTreeClassifier\n",
        "# 4 : DecisionTreeClassifier\n",
        "# 5 : GradientBoostingClassifier\n",
        "# 6 : AdaBoostClassifier\n",
        "# 7 : RandomForestClassifier\n",
        "\n",
        "def trainModel(modelIndex,feature_count,train_x,test_x):\n",
        "  \n",
        "  # for running on model specific top features\n",
        "  imp_features = most_important_features[modelIndex][:feature_count]['feature']\n",
        "  \n",
        "  # for running on top features across models\n",
        "  #imp_features = sorted_global_importance_keys[:feature_count]\n",
        "  \n",
        "  train_x_imp = train_x[imp_features]\n",
        "  test_x_imp = test_x[imp_features]\n",
        "  \n",
        "  train_X, test_X, train_Y, test_Y = train_test_split(train_x_imp, train_y, random_state=1)\n",
        "  train_X, test_X, train_Y, test_Y = train_test_split(train_x, train_y, random_state=1)\n",
        "  \n",
        "  print(\"Training\",modelIndex);\n",
        "\n",
        "  if(modelIndex) ==0:\n",
        "    classifier = XGBClassifier(max_depth=20,\n",
        "                             tree_method='gpu_hist',\n",
        "                           min_child_weight=1,\n",
        "                           learning_rate=0.1,\n",
        "                           n_estimators=1000,\n",
        "                           silent=True,\n",
        "                           objective='binary:logistic',\n",
        "                           gamma=0,\n",
        "                           max_delta_step=0,\n",
        "                           subsample=1,\n",
        "                           colsample_bytree=1,\n",
        "                           colsample_bylevel=1,\n",
        "                           reg_alpha=0,\n",
        "                           reg_lambda=0,\n",
        "                           scale_pos_weight=1,\n",
        "                           seed=1,\n",
        "                           missing=None)\n",
        "  elif modelIndex == 1:\n",
        "    classifier = LGBMClassifier(num_leaves= 256,min_child_samples= 79,objective= \n",
        "                                'binary',max_depth= 13,learning_rate= 0.1,\n",
        "          tree_method='gpu_hist',\n",
        "          boosting_type= \"gbdt\",\n",
        "          subsample_freq= 3,\n",
        "          subsample= 0.9,\n",
        "          bagging_seed= 11,\n",
        "          metric= 'auc',\n",
        "         verbosity= -1,\n",
        "          reg_alpha=0.3,\n",
        "          reg_lambda=0.3,\n",
        "          colsample_bytree=0.9)\n",
        "  elif modelIndex == 2:\n",
        "      classifier = ExtraTreesClassifier(n_estimators=200,max_features= 50,\n",
        "                                        criterion= 'entropy',min_samples_split= 3,\n",
        "                                        max_depth= 5,min_samples_leaf= 8)\n",
        "  elif modelIndex == 3:\n",
        "     classifier = ExtraTreeClassifier()\n",
        "  elif (modelIndex) ==4:\n",
        "    classifier = DecisionTreeClassifier(random_state=0)\n",
        "  elif modelIndex == 5:\n",
        "    classifier = GradientBoostingClassifier(n_estimators=500,learning_rate = 0.1,\n",
        "                                            max_depth =10, random_state = 0)\n",
        "  elif modelIndex == 6:\n",
        "    classifier = AdaBoostClassifier(DecisionTreeClassifier(max_depth=5),n_estimators=200)\n",
        "  elif modelIndex == 7:\n",
        "    classifier = RandomForestClassifier(n_estimators=500, max_depth=5,random_state=0)\n",
        "  else:\n",
        "    return\n",
        "  \n",
        "  classifier.fit(train_X, train_Y)\n",
        "\n",
        "  # saving models for future use\n",
        "  models.append(classifier)\n",
        "  \n",
        "  #predicting on test data\n",
        "  predictions = classifier.predict(test_X)\n",
        "  \n",
        "  #saving confusion matrix for future analysis\n",
        "  confusion_matrices.append(confusion_matrix(test_Y, predictions))\n",
        "  \n",
        "  # saving accuracy metrics for future analysis\n",
        "  class_report.append(classification_report(test_Y, predictions))\n",
        "  \n",
        "  # probability predict\n",
        "  y_preds = classifier.predict_proba(test_x)[:,1]\n",
        "  \n",
        "  # roc auc metric\n",
        "  print(roc_auc_score(train_Y,y_preds))\n",
        "  \n",
        "  sample_submission['isFraud'] = y_preds\n",
        "  \n",
        "  #saving result csv\n",
        "  sample_submissions.append(sample_submission)"
      ],
      "execution_count": 0,
      "outputs": []
    },
    {
      "cell_type": "markdown",
      "metadata": {
        "id": "IK5vT1B_1jsa",
        "colab_type": "text"
      },
      "source": [
        "**6.5 Training**"
      ]
    },
    {
      "cell_type": "code",
      "metadata": {
        "id": "dy3RKEsgi04_",
        "colab_type": "code",
        "colab": {}
      },
      "source": [
        "no_features=200\n",
        "models = []\n",
        "sample_submissions=[]\n",
        "confusion_matrices=[]\n",
        "class_report=[]\n",
        "for i in range(0,len(clfname)):\n",
        "  trainModel(i,no_features,train_x,test_x)"
      ],
      "execution_count": 0,
      "outputs": []
    },
    {
      "cell_type": "code",
      "metadata": {
        "id": "mgC0Uc_m2qde",
        "colab_type": "code",
        "colab": {}
      },
      "source": [
        "for i in range(0,len(models)):\n",
        "  print(\"Confusion Matrix for\" + clfname[i]+str(no_features) +\"\\n\")\n",
        "  \n",
        "  #confusion matrix\n",
        "  print(confusion_matrices[i])\n",
        "  \n",
        "  #F1 score\n",
        "  p = confusion_matrices[i][1][1]/(confusion_matrices[i][1][1]+confusion_matrices[i][0][1])\n",
        "  r = confusion_matrices[i][1][1]/(confusion_matrices[i][1][1]+confusion_matrices[i][1][0])\n",
        "  print(\"F1 score : \" ,(2*p*r)/(p+r))\n",
        "  \n",
        "  #roc-auc score\n",
        "  print(\"roc-auc score : \" , class_report[i])\n",
        "  \n",
        "  #saving and downloading model from colab\n",
        "  saveModel(models[i],clfname[i]+str(5))\n",
        "  files.download(clfname[i]+str(5))\n",
        "  \n",
        "  # saving and downloading result csv from colab\n",
        "  sample_submissions[i].to_csv(clfname[i]+str(no_features)+'.csv')\n",
        "  files.download(clfname[i]+str(no_features)+'.csv')"
      ],
      "execution_count": 0,
      "outputs": []
    },
    {
      "cell_type": "markdown",
      "metadata": {
        "id": "yIF01v_rzWDy",
        "colab_type": "text"
      },
      "source": [
        "## Part 7 - Final Result"
      ]
    },
    {
      "cell_type": "markdown",
      "metadata": {
        "id": "nL-6Lc7rzhMs",
        "colab_type": "text"
      },
      "source": [
        "Kaggle Link: https://www.kaggle.com/rishabhgoelsbu"
      ]
    },
    {
      "cell_type": "markdown",
      "metadata": {
        "id": "ixMMGl5_zpY5",
        "colab_type": "text"
      },
      "source": [
        "Highest Rank: 4284"
      ]
    },
    {
      "cell_type": "markdown",
      "metadata": {
        "id": "tHP2ivK8zsmN",
        "colab_type": "text"
      },
      "source": [
        "Score: 0.9261"
      ]
    },
    {
      "cell_type": "markdown",
      "metadata": {
        "id": "3d2bxMX0zumk",
        "colab_type": "text"
      },
      "source": [
        "Number of entries: 6"
      ]
    },
    {
      "cell_type": "markdown",
      "metadata": {
        "id": "hMoPg7HjzxIQ",
        "colab_type": "text"
      },
      "source": [
        "![kaggle_rank](https://user-images.githubusercontent.com/8913742/65657681-6c166f00-dff2-11e9-8b09-eb825beed4b3.png)"
      ]
    }
  ]
}